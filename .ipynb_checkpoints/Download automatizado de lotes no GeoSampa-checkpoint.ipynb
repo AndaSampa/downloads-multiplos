{
 "cells": [
  {
   "cell_type": "markdown",
   "metadata": {},
   "source": [
    "# Download automatizado de lotes\n",
    "\n",
    "## Introdução\n",
    "\n",
    "Os arquivos de lotes estão divididos por sub-prefeituras. Isso acontece em outros casos e é possível adaptar esse script para solucionar dificuldades similares.\n",
    "É comum precisarmos desse arquivo para fazer alguma análise e sempre acaba ficando a dificuldade de se obeter o conjunto total de feições.\n",
    "\n",
    "Portanto um robo automatizado que faça o download dos arquivos de maneira consistente pode ser uma ferramenta útil de trabalho para vc que precisa trabalhar com dados de toda a cidade.\n",
    "\n",
    "## Metodologia\n",
    "\n",
    "Para fazermos o download de forma automatizada vamos usar a linguagem de programação Python com o WebDriver Selenium\n"
   ]
  },
  {
   "cell_type": "markdown",
   "metadata": {},
   "source": [
    "### Abrindo so site do Geosampa\n",
    "\n",
    "O primeiro passo é abrir o site do GeoSampa em um WebDriver e simular um usuário fazendo o download de todos os arquivos de lote"
   ]
  },
  {
   "cell_type": "code",
   "execution_count": 6,
   "metadata": {},
   "outputs": [
    {
     "name": "stderr",
     "output_type": "stream",
     "text": [
      "/tmp/ipykernel_38555/3720753577.py:17: DeprecationWarning: executable_path has been deprecated, please pass in a Service object\n",
      "  driver = webdriver.Chrome(chrome_options=chrome_options, executable_path='./chromedriver')\n",
      "/tmp/ipykernel_38555/3720753577.py:17: DeprecationWarning: use options instead of chrome_options\n",
      "  driver = webdriver.Chrome(chrome_options=chrome_options, executable_path='./chromedriver')\n"
     ]
    },
    {
     "ename": "SessionNotCreatedException",
     "evalue": "Message: session not created exception: Missing or invalid capabilities\n  (Driver info: chromedriver=2.41.578700 (2f1ed5f9343c13f73144538f15c00b370eda6706),platform=Linux 5.4.0-139-generic x86_64)\n",
     "output_type": "error",
     "traceback": [
      "\u001b[0;31m---------------------------------------------------------------------------\u001b[0m",
      "\u001b[0;31mSessionNotCreatedException\u001b[0m                Traceback (most recent call last)",
      "Cell \u001b[0;32mIn[6], line 17\u001b[0m\n\u001b[1;32m      7\u001b[0m chrome_options\u001b[38;5;241m.\u001b[39madd_argument(\u001b[38;5;124m'\u001b[39m\u001b[38;5;124m--disable-dev-shm-usage\u001b[39m\u001b[38;5;124m'\u001b[39m)\n\u001b[1;32m      9\u001b[0m \u001b[38;5;66;03m# options = webdriver.ChromeOptions()\u001b[39;00m\n\u001b[1;32m     10\u001b[0m \n\u001b[1;32m     11\u001b[0m \u001b[38;5;66;03m# Descomente a linha abaixo caso não precise visualizar o browser\u001b[39;00m\n\u001b[0;32m   (...)\u001b[0m\n\u001b[1;32m     15\u001b[0m \n\u001b[1;32m     16\u001b[0m \u001b[38;5;66;03m# Inicializando o driver, que é uma instância de um browser\u001b[39;00m\n\u001b[0;32m---> 17\u001b[0m driver \u001b[38;5;241m=\u001b[39m \u001b[43mwebdriver\u001b[49m\u001b[38;5;241;43m.\u001b[39;49m\u001b[43mChrome\u001b[49m\u001b[43m(\u001b[49m\u001b[43mchrome_options\u001b[49m\u001b[38;5;241;43m=\u001b[39;49m\u001b[43mchrome_options\u001b[49m\u001b[43m,\u001b[49m\u001b[43m \u001b[49m\u001b[43mexecutable_path\u001b[49m\u001b[38;5;241;43m=\u001b[39;49m\u001b[38;5;124;43m'\u001b[39;49m\u001b[38;5;124;43m./chromedriver\u001b[39;49m\u001b[38;5;124;43m'\u001b[39;49m\u001b[43m)\u001b[49m\n\u001b[1;32m     18\u001b[0m driver\u001b[38;5;241m.\u001b[39mget(\u001b[38;5;124m\"\u001b[39m\u001b[38;5;124mhttp://geosampa.prefeitura.sp.gov.br/PaginasPublicas/_SBC.aspx\u001b[39m\u001b[38;5;124m\"\u001b[39m)\n",
      "File \u001b[0;32m~/.local/lib/python3.8/site-packages/selenium/webdriver/chrome/webdriver.py:80\u001b[0m, in \u001b[0;36mWebDriver.__init__\u001b[0;34m(self, executable_path, port, options, service_args, desired_capabilities, service_log_path, chrome_options, service, keep_alive)\u001b[0m\n\u001b[1;32m     77\u001b[0m \u001b[38;5;28;01mif\u001b[39;00m \u001b[38;5;129;01mnot\u001b[39;00m service:\n\u001b[1;32m     78\u001b[0m     service \u001b[38;5;241m=\u001b[39m Service(executable_path, port, service_args, service_log_path)\n\u001b[0;32m---> 80\u001b[0m \u001b[38;5;28;43msuper\u001b[39;49m\u001b[43m(\u001b[49m\u001b[43m)\u001b[49m\u001b[38;5;241;43m.\u001b[39;49m\u001b[38;5;21;43m__init__\u001b[39;49m\u001b[43m(\u001b[49m\n\u001b[1;32m     81\u001b[0m \u001b[43m    \u001b[49m\u001b[43mDesiredCapabilities\u001b[49m\u001b[38;5;241;43m.\u001b[39;49m\u001b[43mCHROME\u001b[49m\u001b[43m[\u001b[49m\u001b[38;5;124;43m\"\u001b[39;49m\u001b[38;5;124;43mbrowserName\u001b[39;49m\u001b[38;5;124;43m\"\u001b[39;49m\u001b[43m]\u001b[49m\u001b[43m,\u001b[49m\n\u001b[1;32m     82\u001b[0m \u001b[43m    \u001b[49m\u001b[38;5;124;43m\"\u001b[39;49m\u001b[38;5;124;43mgoog\u001b[39;49m\u001b[38;5;124;43m\"\u001b[39;49m\u001b[43m,\u001b[49m\n\u001b[1;32m     83\u001b[0m \u001b[43m    \u001b[49m\u001b[43mport\u001b[49m\u001b[43m,\u001b[49m\n\u001b[1;32m     84\u001b[0m \u001b[43m    \u001b[49m\u001b[43moptions\u001b[49m\u001b[43m,\u001b[49m\n\u001b[1;32m     85\u001b[0m \u001b[43m    \u001b[49m\u001b[43mservice_args\u001b[49m\u001b[43m,\u001b[49m\n\u001b[1;32m     86\u001b[0m \u001b[43m    \u001b[49m\u001b[43mdesired_capabilities\u001b[49m\u001b[43m,\u001b[49m\n\u001b[1;32m     87\u001b[0m \u001b[43m    \u001b[49m\u001b[43mservice_log_path\u001b[49m\u001b[43m,\u001b[49m\n\u001b[1;32m     88\u001b[0m \u001b[43m    \u001b[49m\u001b[43mservice\u001b[49m\u001b[43m,\u001b[49m\n\u001b[1;32m     89\u001b[0m \u001b[43m    \u001b[49m\u001b[43mkeep_alive\u001b[49m\u001b[43m,\u001b[49m\n\u001b[1;32m     90\u001b[0m \u001b[43m\u001b[49m\u001b[43m)\u001b[49m\n",
      "File \u001b[0;32m~/.local/lib/python3.8/site-packages/selenium/webdriver/chromium/webdriver.py:104\u001b[0m, in \u001b[0;36mChromiumDriver.__init__\u001b[0;34m(self, browser_name, vendor_prefix, port, options, service_args, desired_capabilities, service_log_path, service, keep_alive)\u001b[0m\n\u001b[1;32m    101\u001b[0m \u001b[38;5;28mself\u001b[39m\u001b[38;5;241m.\u001b[39mservice\u001b[38;5;241m.\u001b[39mstart()\n\u001b[1;32m    103\u001b[0m \u001b[38;5;28;01mtry\u001b[39;00m:\n\u001b[0;32m--> 104\u001b[0m     \u001b[38;5;28;43msuper\u001b[39;49m\u001b[43m(\u001b[49m\u001b[43m)\u001b[49m\u001b[38;5;241;43m.\u001b[39;49m\u001b[38;5;21;43m__init__\u001b[39;49m\u001b[43m(\u001b[49m\n\u001b[1;32m    105\u001b[0m \u001b[43m        \u001b[49m\u001b[43mcommand_executor\u001b[49m\u001b[38;5;241;43m=\u001b[39;49m\u001b[43mChromiumRemoteConnection\u001b[49m\u001b[43m(\u001b[49m\n\u001b[1;32m    106\u001b[0m \u001b[43m            \u001b[49m\u001b[43mremote_server_addr\u001b[49m\u001b[38;5;241;43m=\u001b[39;49m\u001b[38;5;28;43mself\u001b[39;49m\u001b[38;5;241;43m.\u001b[39;49m\u001b[43mservice\u001b[49m\u001b[38;5;241;43m.\u001b[39;49m\u001b[43mservice_url\u001b[49m\u001b[43m,\u001b[49m\n\u001b[1;32m    107\u001b[0m \u001b[43m            \u001b[49m\u001b[43mbrowser_name\u001b[49m\u001b[38;5;241;43m=\u001b[39;49m\u001b[43mbrowser_name\u001b[49m\u001b[43m,\u001b[49m\n\u001b[1;32m    108\u001b[0m \u001b[43m            \u001b[49m\u001b[43mvendor_prefix\u001b[49m\u001b[38;5;241;43m=\u001b[39;49m\u001b[43mvendor_prefix\u001b[49m\u001b[43m,\u001b[49m\n\u001b[1;32m    109\u001b[0m \u001b[43m            \u001b[49m\u001b[43mkeep_alive\u001b[49m\u001b[38;5;241;43m=\u001b[39;49m\u001b[43mkeep_alive\u001b[49m\u001b[43m,\u001b[49m\n\u001b[1;32m    110\u001b[0m \u001b[43m            \u001b[49m\u001b[43mignore_proxy\u001b[49m\u001b[38;5;241;43m=\u001b[39;49m\u001b[43m_ignore_proxy\u001b[49m\u001b[43m,\u001b[49m\n\u001b[1;32m    111\u001b[0m \u001b[43m        \u001b[49m\u001b[43m)\u001b[49m\u001b[43m,\u001b[49m\n\u001b[1;32m    112\u001b[0m \u001b[43m        \u001b[49m\u001b[43moptions\u001b[49m\u001b[38;5;241;43m=\u001b[39;49m\u001b[43moptions\u001b[49m\u001b[43m,\u001b[49m\n\u001b[1;32m    113\u001b[0m \u001b[43m    \u001b[49m\u001b[43m)\u001b[49m\n\u001b[1;32m    114\u001b[0m \u001b[38;5;28;01mexcept\u001b[39;00m \u001b[38;5;167;01mException\u001b[39;00m:\n\u001b[1;32m    115\u001b[0m     \u001b[38;5;28mself\u001b[39m\u001b[38;5;241m.\u001b[39mquit()\n",
      "File \u001b[0;32m~/.local/lib/python3.8/site-packages/selenium/webdriver/remote/webdriver.py:286\u001b[0m, in \u001b[0;36mWebDriver.__init__\u001b[0;34m(self, command_executor, desired_capabilities, browser_profile, proxy, keep_alive, file_detector, options)\u001b[0m\n\u001b[1;32m    284\u001b[0m \u001b[38;5;28mself\u001b[39m\u001b[38;5;241m.\u001b[39m_authenticator_id \u001b[38;5;241m=\u001b[39m \u001b[38;5;28;01mNone\u001b[39;00m\n\u001b[1;32m    285\u001b[0m \u001b[38;5;28mself\u001b[39m\u001b[38;5;241m.\u001b[39mstart_client()\n\u001b[0;32m--> 286\u001b[0m \u001b[38;5;28;43mself\u001b[39;49m\u001b[38;5;241;43m.\u001b[39;49m\u001b[43mstart_session\u001b[49m\u001b[43m(\u001b[49m\u001b[43mcapabilities\u001b[49m\u001b[43m,\u001b[49m\u001b[43m \u001b[49m\u001b[43mbrowser_profile\u001b[49m\u001b[43m)\u001b[49m\n",
      "File \u001b[0;32m~/.local/lib/python3.8/site-packages/selenium/webdriver/remote/webdriver.py:378\u001b[0m, in \u001b[0;36mWebDriver.start_session\u001b[0;34m(self, capabilities, browser_profile)\u001b[0m\n\u001b[1;32m    376\u001b[0m w3c_caps \u001b[38;5;241m=\u001b[39m _make_w3c_caps(capabilities)\n\u001b[1;32m    377\u001b[0m parameters \u001b[38;5;241m=\u001b[39m {\u001b[38;5;124m\"\u001b[39m\u001b[38;5;124mcapabilities\u001b[39m\u001b[38;5;124m\"\u001b[39m: w3c_caps}\n\u001b[0;32m--> 378\u001b[0m response \u001b[38;5;241m=\u001b[39m \u001b[38;5;28;43mself\u001b[39;49m\u001b[38;5;241;43m.\u001b[39;49m\u001b[43mexecute\u001b[49m\u001b[43m(\u001b[49m\u001b[43mCommand\u001b[49m\u001b[38;5;241;43m.\u001b[39;49m\u001b[43mNEW_SESSION\u001b[49m\u001b[43m,\u001b[49m\u001b[43m \u001b[49m\u001b[43mparameters\u001b[49m\u001b[43m)\u001b[49m\n\u001b[1;32m    379\u001b[0m \u001b[38;5;28;01mif\u001b[39;00m \u001b[38;5;124m\"\u001b[39m\u001b[38;5;124msessionId\u001b[39m\u001b[38;5;124m\"\u001b[39m \u001b[38;5;129;01mnot\u001b[39;00m \u001b[38;5;129;01min\u001b[39;00m response:\n\u001b[1;32m    380\u001b[0m     response \u001b[38;5;241m=\u001b[39m response[\u001b[38;5;124m\"\u001b[39m\u001b[38;5;124mvalue\u001b[39m\u001b[38;5;124m\"\u001b[39m]\n",
      "File \u001b[0;32m~/.local/lib/python3.8/site-packages/selenium/webdriver/remote/webdriver.py:440\u001b[0m, in \u001b[0;36mWebDriver.execute\u001b[0;34m(self, driver_command, params)\u001b[0m\n\u001b[1;32m    438\u001b[0m response \u001b[38;5;241m=\u001b[39m \u001b[38;5;28mself\u001b[39m\u001b[38;5;241m.\u001b[39mcommand_executor\u001b[38;5;241m.\u001b[39mexecute(driver_command, params)\n\u001b[1;32m    439\u001b[0m \u001b[38;5;28;01mif\u001b[39;00m response:\n\u001b[0;32m--> 440\u001b[0m     \u001b[38;5;28;43mself\u001b[39;49m\u001b[38;5;241;43m.\u001b[39;49m\u001b[43merror_handler\u001b[49m\u001b[38;5;241;43m.\u001b[39;49m\u001b[43mcheck_response\u001b[49m\u001b[43m(\u001b[49m\u001b[43mresponse\u001b[49m\u001b[43m)\u001b[49m\n\u001b[1;32m    441\u001b[0m     response[\u001b[38;5;124m\"\u001b[39m\u001b[38;5;124mvalue\u001b[39m\u001b[38;5;124m\"\u001b[39m] \u001b[38;5;241m=\u001b[39m \u001b[38;5;28mself\u001b[39m\u001b[38;5;241m.\u001b[39m_unwrap_value(response\u001b[38;5;241m.\u001b[39mget(\u001b[38;5;124m\"\u001b[39m\u001b[38;5;124mvalue\u001b[39m\u001b[38;5;124m\"\u001b[39m, \u001b[38;5;28;01mNone\u001b[39;00m))\n\u001b[1;32m    442\u001b[0m     \u001b[38;5;28;01mreturn\u001b[39;00m response\n",
      "File \u001b[0;32m~/.local/lib/python3.8/site-packages/selenium/webdriver/remote/errorhandler.py:245\u001b[0m, in \u001b[0;36mErrorHandler.check_response\u001b[0;34m(self, response)\u001b[0m\n\u001b[1;32m    243\u001b[0m         alert_text \u001b[38;5;241m=\u001b[39m value[\u001b[38;5;124m\"\u001b[39m\u001b[38;5;124malert\u001b[39m\u001b[38;5;124m\"\u001b[39m]\u001b[38;5;241m.\u001b[39mget(\u001b[38;5;124m\"\u001b[39m\u001b[38;5;124mtext\u001b[39m\u001b[38;5;124m\"\u001b[39m)\n\u001b[1;32m    244\u001b[0m     \u001b[38;5;28;01mraise\u001b[39;00m exception_class(message, screen, stacktrace, alert_text)  \u001b[38;5;66;03m# type: ignore[call-arg]  # mypy is not smart enough here\u001b[39;00m\n\u001b[0;32m--> 245\u001b[0m \u001b[38;5;28;01mraise\u001b[39;00m exception_class(message, screen, stacktrace)\n",
      "\u001b[0;31mSessionNotCreatedException\u001b[0m: Message: session not created exception: Missing or invalid capabilities\n  (Driver info: chromedriver=2.41.578700 (2f1ed5f9343c13f73144538f15c00b370eda6706),platform=Linux 5.4.0-139-generic x86_64)\n"
     ]
    }
   ],
   "source": [
    "from selenium import webdriver\n",
    "from selenium.webdriver.chrome.options import Options\n",
    "\n",
    "chrome_options = Options()\n",
    "chrome_options.add_argument('--headless')\n",
    "chrome_options.add_argument('--no-sandbox')\n",
    "chrome_options.add_argument('--disable-dev-shm-usage')\n",
    "\n",
    "# options = webdriver.ChromeOptions()\n",
    "\n",
    "# Descomente a linha abaixo caso não precise visualizar o browser\n",
    "# options.add_argument('headless') \n",
    "\n",
    "# options.add_argument('window-size=900x1080')\n",
    "\n",
    "# Inicializando o driver, que é uma instância de um browser\n",
    "driver = webdriver.Chrome(chrome_options=chrome_options, executable_path='./chromedriver')\n",
    "driver.get(\"http://geosampa.prefeitura.sp.gov.br/PaginasPublicas/_SBC.aspx\")"
   ]
  },
  {
   "cell_type": "markdown",
   "metadata": {},
   "source": [
    "### Clicando no botão de downloads"
   ]
  },
  {
   "cell_type": "code",
   "execution_count": 4,
   "metadata": {},
   "outputs": [],
   "source": [
    "#popup = driver.find_element_by_xpath('//*[@id=\"toPopup\"]/div[1]')\n",
    "#driver.execute_script(\"arguments[0].click();\", popup)\n",
    "\n",
    "#driver.execute_script('document.getElementById(\"backgroundPopup\").remove()')\n",
    "driver.implicitly_wait(1)\n",
    "\n",
    "botao_downloads = driver.find_element_by_xpath('//*[contains(@id, \"OpenLayers_Control_Panel\")]/div[7]')\n",
    "botao_downloads.click()"
   ]
  },
  {
   "cell_type": "code",
   "execution_count": 5,
   "metadata": {},
   "outputs": [],
   "source": [
    "#######\n",
    "\n",
    "driver.implicitly_wait(1)\n",
    "\n",
    "from selenium.webdriver.support.select import Select\n",
    "combo_download = Select(driver.find_element_by_id('cboCamadas'))"
   ]
  },
  {
   "cell_type": "code",
   "execution_count": 6,
   "metadata": {},
   "outputs": [
    {
     "data": {
      "text/plain": [
       "['',\n",
       " 'Cidade Solidária',\n",
       " 'Limites Administrativos',\n",
       " 'População',\n",
       " 'Equipamentos',\n",
       " 'Transporte',\n",
       " 'Sistema Viário',\n",
       " 'Habitação e Edificação',\n",
       " 'Proteção e Defesa Civil',\n",
       " 'Infraestrutura Urbana',\n",
       " 'Verde e Recursos Naturais',\n",
       " 'Meio Físico',\n",
       " 'Rural',\n",
       " 'Cadastro',\n",
       " 'Legislação Urbana',\n",
       " 'Patrimônio Cultural',\n",
       " 'Acessibilidade',\n",
       " 'Atlas Ambiental',\n",
       " 'Economia',\n",
       " 'Imagens Satelites',\n",
       " 'Mosaico de Ortofotos',\n",
       " 'Plantas e Mapas Históricos',\n",
       " 'Articulacao de Imagens',\n",
       " 'Atendimento ao Cidadão',\n",
       " 'Proteção aos Aeródromos',\n",
       " 'Licenciamento Ambiental']"
      ]
     },
     "execution_count": 6,
     "metadata": {},
     "output_type": "execute_result"
    }
   ],
   "source": [
    "list(map(lambda x: x.text, combo_download.options))"
   ]
  },
  {
   "cell_type": "markdown",
   "metadata": {},
   "source": [
    "### Escolhendo a camada\n",
    "\n",
    "Agora precisamos escolher no menu DropDown a opção 'Cadastro' e então a opção 'Lotes'. Quando uma nova janela passa a ser apresentada para podermos escolher 'Shapefiles'"
   ]
  },
  {
   "cell_type": "code",
   "execution_count": 7,
   "metadata": {},
   "outputs": [],
   "source": [
    "driver.implicitly_wait(1)\n",
    "\n",
    "from selenium.webdriver.support.select import Select\n",
    "combo_download = Select(driver.find_element_by_id('cboCamadas'))\n",
    "combo_download.select_by_visible_text('Cadastro')\n",
    "\n",
    "driver.implicitly_wait(1)\n",
    "\n",
    "sub_combo_download = Select(driver.find_element_by_id('cboSubCamadas'))\n",
    "sub_combo_download.select_by_visible_text('Lotes')\n",
    "\n",
    "driver.implicitly_wait(1)\n",
    "\n",
    "link_ok = driver.find_element_by_xpath('//*[@id=\"1\"]/td[2]/a[3]')\n",
    "link_ok.click()\n",
    "\n",
    "driver.implicitly_wait(1)\n",
    "\n",
    "# link_shps = driver.find_element_by_xpath('//*[@id=\"1\"]/td[2]/a[2]')\n",
    "# link_shps.click()"
   ]
  },
  {
   "cell_type": "markdown",
   "metadata": {},
   "source": [
    "### Iterando sobre os arquivos disponíveis para download\n",
    "\n",
    "Nessa tela temos links para os downloads de todos os arquivos. Precisamos portanto iterar sobre eles e guardar esses links em um arquivo para postetiormente fazer o download de cada um deles."
   ]
  },
  {
   "cell_type": "code",
   "execution_count": 8,
   "metadata": {},
   "outputs": [
    {
     "name": "stdout",
     "output_type": "stream",
     "text": [
      "<selenium.webdriver.remote.webelement.WebElement (session=\"d9927db16dac8e7b7fc7096b67fc97ce\", element=\"0.523343106899089-32\")>\n",
      "<selenium.webdriver.remote.webelement.WebElement (session=\"d9927db16dac8e7b7fc7096b67fc97ce\", element=\"0.523343106899089-33\")>\n",
      "<selenium.webdriver.remote.webelement.WebElement (session=\"d9927db16dac8e7b7fc7096b67fc97ce\", element=\"0.523343106899089-34\")>\n",
      "<selenium.webdriver.remote.webelement.WebElement (session=\"d9927db16dac8e7b7fc7096b67fc97ce\", element=\"0.523343106899089-35\")>\n",
      "<selenium.webdriver.remote.webelement.WebElement (session=\"d9927db16dac8e7b7fc7096b67fc97ce\", element=\"0.523343106899089-36\")>\n",
      "<selenium.webdriver.remote.webelement.WebElement (session=\"d9927db16dac8e7b7fc7096b67fc97ce\", element=\"0.523343106899089-37\")>\n",
      "<selenium.webdriver.remote.webelement.WebElement (session=\"d9927db16dac8e7b7fc7096b67fc97ce\", element=\"0.523343106899089-38\")>\n",
      "<selenium.webdriver.remote.webelement.WebElement (session=\"d9927db16dac8e7b7fc7096b67fc97ce\", element=\"0.523343106899089-39\")>\n",
      "<selenium.webdriver.remote.webelement.WebElement (session=\"d9927db16dac8e7b7fc7096b67fc97ce\", element=\"0.523343106899089-50\")>\n",
      "<selenium.webdriver.remote.webelement.WebElement (session=\"d9927db16dac8e7b7fc7096b67fc97ce\", element=\"0.523343106899089-51\")>\n",
      "<selenium.webdriver.remote.webelement.WebElement (session=\"d9927db16dac8e7b7fc7096b67fc97ce\", element=\"0.523343106899089-52\")>\n",
      "<selenium.webdriver.remote.webelement.WebElement (session=\"d9927db16dac8e7b7fc7096b67fc97ce\", element=\"0.523343106899089-53\")>\n",
      "<selenium.webdriver.remote.webelement.WebElement (session=\"d9927db16dac8e7b7fc7096b67fc97ce\", element=\"0.523343106899089-54\")>\n",
      "<selenium.webdriver.remote.webelement.WebElement (session=\"d9927db16dac8e7b7fc7096b67fc97ce\", element=\"0.523343106899089-55\")>\n",
      "<selenium.webdriver.remote.webelement.WebElement (session=\"d9927db16dac8e7b7fc7096b67fc97ce\", element=\"0.523343106899089-56\")>\n",
      "<selenium.webdriver.remote.webelement.WebElement (session=\"d9927db16dac8e7b7fc7096b67fc97ce\", element=\"0.523343106899089-57\")>\n",
      "<selenium.webdriver.remote.webelement.WebElement (session=\"d9927db16dac8e7b7fc7096b67fc97ce\", element=\"0.523343106899089-66\")>\n",
      "<selenium.webdriver.remote.webelement.WebElement (session=\"d9927db16dac8e7b7fc7096b67fc97ce\", element=\"0.523343106899089-67\")>\n",
      "<selenium.webdriver.remote.webelement.WebElement (session=\"d9927db16dac8e7b7fc7096b67fc97ce\", element=\"0.523343106899089-68\")>\n",
      "<selenium.webdriver.remote.webelement.WebElement (session=\"d9927db16dac8e7b7fc7096b67fc97ce\", element=\"0.523343106899089-69\")>\n",
      "<selenium.webdriver.remote.webelement.WebElement (session=\"d9927db16dac8e7b7fc7096b67fc97ce\", element=\"0.523343106899089-70\")>\n",
      "<selenium.webdriver.remote.webelement.WebElement (session=\"d9927db16dac8e7b7fc7096b67fc97ce\", element=\"0.523343106899089-71\")>\n",
      "<selenium.webdriver.remote.webelement.WebElement (session=\"d9927db16dac8e7b7fc7096b67fc97ce\", element=\"0.523343106899089-72\")>\n",
      "<selenium.webdriver.remote.webelement.WebElement (session=\"d9927db16dac8e7b7fc7096b67fc97ce\", element=\"0.523343106899089-73\")>\n",
      "<selenium.webdriver.remote.webelement.WebElement (session=\"d9927db16dac8e7b7fc7096b67fc97ce\", element=\"0.523343106899089-82\")>\n",
      "<selenium.webdriver.remote.webelement.WebElement (session=\"d9927db16dac8e7b7fc7096b67fc97ce\", element=\"0.523343106899089-83\")>\n",
      "<selenium.webdriver.remote.webelement.WebElement (session=\"d9927db16dac8e7b7fc7096b67fc97ce\", element=\"0.523343106899089-84\")>\n",
      "<selenium.webdriver.remote.webelement.WebElement (session=\"d9927db16dac8e7b7fc7096b67fc97ce\", element=\"0.523343106899089-85\")>\n",
      "<selenium.webdriver.remote.webelement.WebElement (session=\"d9927db16dac8e7b7fc7096b67fc97ce\", element=\"0.523343106899089-86\")>\n",
      "<selenium.webdriver.remote.webelement.WebElement (session=\"d9927db16dac8e7b7fc7096b67fc97ce\", element=\"0.523343106899089-87\")>\n",
      "<selenium.webdriver.remote.webelement.WebElement (session=\"d9927db16dac8e7b7fc7096b67fc97ce\", element=\"0.523343106899089-88\")>\n",
      "<selenium.webdriver.remote.webelement.WebElement (session=\"d9927db16dac8e7b7fc7096b67fc97ce\", element=\"0.523343106899089-89\")>\n",
      "<selenium.webdriver.remote.webelement.WebElement (session=\"d9927db16dac8e7b7fc7096b67fc97ce\", element=\"0.523343106899089-98\")>\n",
      "<selenium.webdriver.remote.webelement.WebElement (session=\"d9927db16dac8e7b7fc7096b67fc97ce\", element=\"0.523343106899089-99\")>\n",
      "<selenium.webdriver.remote.webelement.WebElement (session=\"d9927db16dac8e7b7fc7096b67fc97ce\", element=\"0.523343106899089-100\")>\n",
      "<selenium.webdriver.remote.webelement.WebElement (session=\"d9927db16dac8e7b7fc7096b67fc97ce\", element=\"0.523343106899089-101\")>\n",
      "<selenium.webdriver.remote.webelement.WebElement (session=\"d9927db16dac8e7b7fc7096b67fc97ce\", element=\"0.523343106899089-102\")>\n",
      "<selenium.webdriver.remote.webelement.WebElement (session=\"d9927db16dac8e7b7fc7096b67fc97ce\", element=\"0.523343106899089-103\")>\n",
      "<selenium.webdriver.remote.webelement.WebElement (session=\"d9927db16dac8e7b7fc7096b67fc97ce\", element=\"0.523343106899089-104\")>\n",
      "<selenium.webdriver.remote.webelement.WebElement (session=\"d9927db16dac8e7b7fc7096b67fc97ce\", element=\"0.523343106899089-105\")>\n",
      "<selenium.webdriver.remote.webelement.WebElement (session=\"d9927db16dac8e7b7fc7096b67fc97ce\", element=\"0.523343106899089-114\")>\n",
      "<selenium.webdriver.remote.webelement.WebElement (session=\"d9927db16dac8e7b7fc7096b67fc97ce\", element=\"0.523343106899089-115\")>\n",
      "<selenium.webdriver.remote.webelement.WebElement (session=\"d9927db16dac8e7b7fc7096b67fc97ce\", element=\"0.523343106899089-116\")>\n",
      "<selenium.webdriver.remote.webelement.WebElement (session=\"d9927db16dac8e7b7fc7096b67fc97ce\", element=\"0.523343106899089-117\")>\n",
      "<selenium.webdriver.remote.webelement.WebElement (session=\"d9927db16dac8e7b7fc7096b67fc97ce\", element=\"0.523343106899089-118\")>\n",
      "<selenium.webdriver.remote.webelement.WebElement (session=\"d9927db16dac8e7b7fc7096b67fc97ce\", element=\"0.523343106899089-119\")>\n",
      "<selenium.webdriver.remote.webelement.WebElement (session=\"d9927db16dac8e7b7fc7096b67fc97ce\", element=\"0.523343106899089-120\")>\n",
      "<selenium.webdriver.remote.webelement.WebElement (session=\"d9927db16dac8e7b7fc7096b67fc97ce\", element=\"0.523343106899089-121\")>\n",
      "<selenium.webdriver.remote.webelement.WebElement (session=\"d9927db16dac8e7b7fc7096b67fc97ce\", element=\"0.523343106899089-130\")>\n",
      "<selenium.webdriver.remote.webelement.WebElement (session=\"d9927db16dac8e7b7fc7096b67fc97ce\", element=\"0.523343106899089-131\")>\n",
      "<selenium.webdriver.remote.webelement.WebElement (session=\"d9927db16dac8e7b7fc7096b67fc97ce\", element=\"0.523343106899089-132\")>\n",
      "<selenium.webdriver.remote.webelement.WebElement (session=\"d9927db16dac8e7b7fc7096b67fc97ce\", element=\"0.523343106899089-133\")>\n",
      "<selenium.webdriver.remote.webelement.WebElement (session=\"d9927db16dac8e7b7fc7096b67fc97ce\", element=\"0.523343106899089-134\")>\n",
      "<selenium.webdriver.remote.webelement.WebElement (session=\"d9927db16dac8e7b7fc7096b67fc97ce\", element=\"0.523343106899089-135\")>\n",
      "<selenium.webdriver.remote.webelement.WebElement (session=\"d9927db16dac8e7b7fc7096b67fc97ce\", element=\"0.523343106899089-136\")>\n",
      "<selenium.webdriver.remote.webelement.WebElement (session=\"d9927db16dac8e7b7fc7096b67fc97ce\", element=\"0.523343106899089-137\")>\n",
      "<selenium.webdriver.remote.webelement.WebElement (session=\"d9927db16dac8e7b7fc7096b67fc97ce\", element=\"0.523343106899089-146\")>\n",
      "<selenium.webdriver.remote.webelement.WebElement (session=\"d9927db16dac8e7b7fc7096b67fc97ce\", element=\"0.523343106899089-147\")>\n",
      "<selenium.webdriver.remote.webelement.WebElement (session=\"d9927db16dac8e7b7fc7096b67fc97ce\", element=\"0.523343106899089-148\")>\n",
      "<selenium.webdriver.remote.webelement.WebElement (session=\"d9927db16dac8e7b7fc7096b67fc97ce\", element=\"0.523343106899089-149\")>\n",
      "<selenium.webdriver.remote.webelement.WebElement (session=\"d9927db16dac8e7b7fc7096b67fc97ce\", element=\"0.523343106899089-150\")>\n",
      "<selenium.webdriver.remote.webelement.WebElement (session=\"d9927db16dac8e7b7fc7096b67fc97ce\", element=\"0.523343106899089-151\")>\n",
      "<selenium.webdriver.remote.webelement.WebElement (session=\"d9927db16dac8e7b7fc7096b67fc97ce\", element=\"0.523343106899089-152\")>\n",
      "<selenium.webdriver.remote.webelement.WebElement (session=\"d9927db16dac8e7b7fc7096b67fc97ce\", element=\"0.523343106899089-153\")>\n",
      "<selenium.webdriver.remote.webelement.WebElement (session=\"d9927db16dac8e7b7fc7096b67fc97ce\", element=\"0.523343106899089-162\")>\n"
     ]
    },
    {
     "name": "stdout",
     "output_type": "stream",
     "text": [
      "<selenium.webdriver.remote.webelement.WebElement (session=\"d9927db16dac8e7b7fc7096b67fc97ce\", element=\"0.523343106899089-163\")>\n",
      "<selenium.webdriver.remote.webelement.WebElement (session=\"d9927db16dac8e7b7fc7096b67fc97ce\", element=\"0.523343106899089-164\")>\n",
      "<selenium.webdriver.remote.webelement.WebElement (session=\"d9927db16dac8e7b7fc7096b67fc97ce\", element=\"0.523343106899089-165\")>\n",
      "<selenium.webdriver.remote.webelement.WebElement (session=\"d9927db16dac8e7b7fc7096b67fc97ce\", element=\"0.523343106899089-166\")>\n",
      "<selenium.webdriver.remote.webelement.WebElement (session=\"d9927db16dac8e7b7fc7096b67fc97ce\", element=\"0.523343106899089-167\")>\n",
      "<selenium.webdriver.remote.webelement.WebElement (session=\"d9927db16dac8e7b7fc7096b67fc97ce\", element=\"0.523343106899089-168\")>\n",
      "<selenium.webdriver.remote.webelement.WebElement (session=\"d9927db16dac8e7b7fc7096b67fc97ce\", element=\"0.523343106899089-169\")>\n",
      "<selenium.webdriver.remote.webelement.WebElement (session=\"d9927db16dac8e7b7fc7096b67fc97ce\", element=\"0.523343106899089-178\")>\n",
      "<selenium.webdriver.remote.webelement.WebElement (session=\"d9927db16dac8e7b7fc7096b67fc97ce\", element=\"0.523343106899089-179\")>\n",
      "<selenium.webdriver.remote.webelement.WebElement (session=\"d9927db16dac8e7b7fc7096b67fc97ce\", element=\"0.523343106899089-180\")>\n",
      "<selenium.webdriver.remote.webelement.WebElement (session=\"d9927db16dac8e7b7fc7096b67fc97ce\", element=\"0.523343106899089-181\")>\n",
      "<selenium.webdriver.remote.webelement.WebElement (session=\"d9927db16dac8e7b7fc7096b67fc97ce\", element=\"0.523343106899089-182\")>\n",
      "<selenium.webdriver.remote.webelement.WebElement (session=\"d9927db16dac8e7b7fc7096b67fc97ce\", element=\"0.523343106899089-183\")>\n",
      "<selenium.webdriver.remote.webelement.WebElement (session=\"d9927db16dac8e7b7fc7096b67fc97ce\", element=\"0.523343106899089-184\")>\n",
      "<selenium.webdriver.remote.webelement.WebElement (session=\"d9927db16dac8e7b7fc7096b67fc97ce\", element=\"0.523343106899089-185\")>\n",
      "<selenium.webdriver.remote.webelement.WebElement (session=\"d9927db16dac8e7b7fc7096b67fc97ce\", element=\"0.523343106899089-194\")>\n",
      "<selenium.webdriver.remote.webelement.WebElement (session=\"d9927db16dac8e7b7fc7096b67fc97ce\", element=\"0.523343106899089-195\")>\n",
      "<selenium.webdriver.remote.webelement.WebElement (session=\"d9927db16dac8e7b7fc7096b67fc97ce\", element=\"0.523343106899089-196\")>\n",
      "<selenium.webdriver.remote.webelement.WebElement (session=\"d9927db16dac8e7b7fc7096b67fc97ce\", element=\"0.523343106899089-197\")>\n",
      "<selenium.webdriver.remote.webelement.WebElement (session=\"d9927db16dac8e7b7fc7096b67fc97ce\", element=\"0.523343106899089-198\")>\n",
      "<selenium.webdriver.remote.webelement.WebElement (session=\"d9927db16dac8e7b7fc7096b67fc97ce\", element=\"0.523343106899089-199\")>\n",
      "<selenium.webdriver.remote.webelement.WebElement (session=\"d9927db16dac8e7b7fc7096b67fc97ce\", element=\"0.523343106899089-200\")>\n",
      "<selenium.webdriver.remote.webelement.WebElement (session=\"d9927db16dac8e7b7fc7096b67fc97ce\", element=\"0.523343106899089-201\")>\n",
      "<selenium.webdriver.remote.webelement.WebElement (session=\"d9927db16dac8e7b7fc7096b67fc97ce\", element=\"0.523343106899089-210\")>\n",
      "<selenium.webdriver.remote.webelement.WebElement (session=\"d9927db16dac8e7b7fc7096b67fc97ce\", element=\"0.523343106899089-211\")>\n",
      "<selenium.webdriver.remote.webelement.WebElement (session=\"d9927db16dac8e7b7fc7096b67fc97ce\", element=\"0.523343106899089-212\")>\n",
      "<selenium.webdriver.remote.webelement.WebElement (session=\"d9927db16dac8e7b7fc7096b67fc97ce\", element=\"0.523343106899089-213\")>\n",
      "<selenium.webdriver.remote.webelement.WebElement (session=\"d9927db16dac8e7b7fc7096b67fc97ce\", element=\"0.523343106899089-214\")>\n",
      "<selenium.webdriver.remote.webelement.WebElement (session=\"d9927db16dac8e7b7fc7096b67fc97ce\", element=\"0.523343106899089-215\")>\n",
      "<selenium.webdriver.remote.webelement.WebElement (session=\"d9927db16dac8e7b7fc7096b67fc97ce\", element=\"0.523343106899089-216\")>\n",
      "<selenium.webdriver.remote.webelement.WebElement (session=\"d9927db16dac8e7b7fc7096b67fc97ce\", element=\"0.523343106899089-217\")>\n",
      "CPU times: user 1.12 s, sys: 82.8 ms, total: 1.21 s\n",
      "Wall time: 1min 27s\n"
     ]
    }
   ],
   "source": [
    "%%time\n",
    "\n",
    "\n",
    "# abrindo  o arquivo em modo append\n",
    "f = open(\"download_lotes_geosampa.txt\", \"w+\")\n",
    "\n",
    "# iterando sobre os links\n",
    "while True:\n",
    "    links_arquivos = driver.find_elements_by_class_name(\"down\")\n",
    "\n",
    "    for link in links_arquivos:\n",
    "        print(link)\n",
    "        if 'SHP_LOTES' in link.get_attribute(\"href\"):\n",
    "            l = link\n",
    "#             print(l)\n",
    "            driver.execute_script(\"arguments[0].click();\", l)\n",
    "            driver.implicitly_wait(1)\n",
    "            b = driver.find_element_by_xpath(\"//*[contains(text(), 'De acordo')]\")\n",
    "            driver.execute_script(\"arguments[0].click();\", b)\n",
    "            driver.implicitly_wait(1)\n",
    "#             f.write(link.get_attribute(\"href\")+'\\n')\n",
    "            #link.click()\n",
    "    if driver.find_element_by_xpath('//*[contains(@id, \"next__P_\")]').get_attribute('class').find('disabled') < 0:\n",
    "        n = driver.find_element_by_xpath('//*[contains(@id, \"next__P_\")]/span')\n",
    "        driver.execute_script(\"arguments[0].click();\", n)\n",
    "    else:\n",
    "        break\n",
    "\n",
    "# fechando o arquivo        \n",
    "f.close()"
   ]
  },
  {
   "cell_type": "code",
   "execution_count": null,
   "metadata": {},
   "outputs": [],
   "source": []
  }
 ],
 "metadata": {
  "kernelspec": {
   "display_name": "Python 3 (ipykernel)",
   "language": "python",
   "name": "python3"
  },
  "language_info": {
   "codemirror_mode": {
    "name": "ipython",
    "version": 3
   },
   "file_extension": ".py",
   "mimetype": "text/x-python",
   "name": "python",
   "nbconvert_exporter": "python",
   "pygments_lexer": "ipython3",
   "version": "3.8.10"
  }
 },
 "nbformat": 4,
 "nbformat_minor": 4
}
