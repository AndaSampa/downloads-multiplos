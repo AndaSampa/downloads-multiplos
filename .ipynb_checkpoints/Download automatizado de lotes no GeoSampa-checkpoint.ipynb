{
 "cells": [
  {
   "cell_type": "markdown",
   "metadata": {},
   "source": [
    "# Download automatizado de lotes\n",
    "\n",
    "## Introdução\n",
    "\n",
    "Os arquivos de lotes estão divididos por sub-prefeituras. Isso acontece em outros casos e é possível adaptar esse script para solucionar dificuldades similares.\n",
    "É comum precisarmos desse arquivo para fazer alguma análise e sempre acaba ficando a dificuldade de se obeter o conjunto total de feições.\n",
    "\n",
    "Portanto um robo automatizado que faça o download dos arquivos de maneira consistente pode ser uma ferramenta útil de trabalho para vc que precisa trabalhar com dados de toda a cidade.\n",
    "\n",
    "## Metodologia\n",
    "\n",
    "Para fazermos o download de forma automatizada vamos usar a linguagem de programação Python com o WebDriver Selenium"
   ]
  },
  {
   "cell_type": "markdown",
   "metadata": {},
   "source": [
    "### Abrindo so site do Geosampa\n",
    "\n",
    "O primeiro passo é abrir o site do GeoSampa em um WebDriver e simular um usuário fazendo o download de todos os arquivos de lote"
   ]
  },
  {
   "cell_type": "code",
   "execution_count": 3,
   "metadata": {},
   "outputs": [
    {
     "name": "stderr",
     "output_type": "stream",
     "text": [
      "<ipython-input-3-d02019d27c11>:17: DeprecationWarning: use options instead of chrome_options\n",
      "  driver = webdriver.Chrome(chrome_options=options)\n"
     ]
    }
   ],
   "source": [
    "from selenium import webdriver\n",
    "from selenium.webdriver.chrome.options import Options\n",
    "\n",
    "chrome_options = Options()\n",
    "chrome_options.add_argument('--headless')\n",
    "chrome_options.add_argument('--no-sandbox')\n",
    "chrome_options.add_argument('--disable-dev-shm-usage')\n",
    "\n",
    "# options = webdriver.ChromeOptions()\n",
    "\n",
    "# Descomente a linha abaixo caso não precise visualizar o browser\n",
    "# options.add_argument('headless') \n",
    "\n",
    "options.add_argument('window-size=900x1080')\n",
    "\n",
    "# Inicializando o driver, que é uma instância de um browser\n",
    "driver = webdriver.Chrome(chrome_options=options)\n",
    "driver.get(\"http://geosampa.prefeitura.sp.gov.br/PaginasPublicas/_SBC.aspx\")"
   ]
  },
  {
   "cell_type": "markdown",
   "metadata": {},
   "source": [
    "### Clicando no botão de downloads"
   ]
  },
  {
   "cell_type": "code",
   "execution_count": 4,
   "metadata": {},
   "outputs": [],
   "source": [
    "#popup = driver.find_element_by_xpath('//*[@id=\"toPopup\"]/div[1]')\n",
    "#driver.execute_script(\"arguments[0].click();\", popup)\n",
    "\n",
    "#driver.execute_script('document.getElementById(\"backgroundPopup\").remove()')\n",
    "driver.implicitly_wait(1)\n",
    "\n",
    "botao_downloads = driver.find_element_by_xpath('//*[contains(@id, \"OpenLayers_Control_Panel\")]/div[7]')\n",
    "botao_downloads.click()"
   ]
  },
  {
   "cell_type": "code",
   "execution_count": 5,
   "metadata": {},
   "outputs": [],
   "source": [
    "#######\n",
    "\n",
    "driver.implicitly_wait(1)\n",
    "\n",
    "from selenium.webdriver.support.select import Select\n",
    "combo_download = Select(driver.find_element_by_id('cboCamadas'))"
   ]
  },
  {
   "cell_type": "code",
   "execution_count": 6,
   "metadata": {},
   "outputs": [
    {
     "data": {
      "text/plain": [
       "['',\n",
       " 'Cidade Solidária',\n",
       " 'Limites Administrativos',\n",
       " 'População',\n",
       " 'Equipamentos',\n",
       " 'Transporte',\n",
       " 'Sistema Viário',\n",
       " 'Habitação e Edificação',\n",
       " 'Proteção e Defesa Civil',\n",
       " 'Infraestrutura Urbana',\n",
       " 'Verde e Recursos Naturais',\n",
       " 'Meio Físico',\n",
       " 'Rural',\n",
       " 'Cadastro',\n",
       " 'Legislação Urbana',\n",
       " 'Patrimônio Cultural',\n",
       " 'Acessibilidade',\n",
       " 'Atlas Ambiental',\n",
       " 'Economia',\n",
       " 'Imagens Satelites',\n",
       " 'Mosaico de Ortofotos',\n",
       " 'Plantas e Mapas Históricos',\n",
       " 'Articulacao de Imagens',\n",
       " 'Atendimento ao Cidadão',\n",
       " 'Proteção aos Aeródromos',\n",
       " 'Licenciamento Ambiental']"
      ]
     },
     "execution_count": 6,
     "metadata": {},
     "output_type": "execute_result"
    }
   ],
   "source": [
    "list(map(lambda x: x.text, combo_download.options))"
   ]
  },
  {
   "cell_type": "markdown",
   "metadata": {},
   "source": [
    "### Escolhendo a camada\n",
    "\n",
    "Agora precisamos escolher no menu DropDown a opção 'Cadastro' e então a opção 'Lotes'. Quando uma nova janela passa a ser apresentada para podermos escolher 'Shapefiles'"
   ]
  },
  {
   "cell_type": "code",
   "execution_count": 7,
   "metadata": {},
   "outputs": [],
   "source": [
    "driver.implicitly_wait(1)\n",
    "\n",
    "from selenium.webdriver.support.select import Select\n",
    "combo_download = Select(driver.find_element_by_id('cboCamadas'))\n",
    "combo_download.select_by_visible_text('Cadastro')\n",
    "\n",
    "driver.implicitly_wait(1)\n",
    "\n",
    "sub_combo_download = Select(driver.find_element_by_id('cboSubCamadas'))\n",
    "sub_combo_download.select_by_visible_text('Lotes')\n",
    "\n",
    "driver.implicitly_wait(1)\n",
    "\n",
    "link_ok = driver.find_element_by_xpath('//*[@id=\"1\"]/td[2]/a[3]')\n",
    "link_ok.click()\n",
    "\n",
    "driver.implicitly_wait(1)\n",
    "\n",
    "# link_shps = driver.find_element_by_xpath('//*[@id=\"1\"]/td[2]/a[2]')\n",
    "# link_shps.click()"
   ]
  },
  {
   "cell_type": "markdown",
   "metadata": {},
   "source": [
    "### Iterando sobre os arquivos disponíveis para download\n",
    "\n",
    "Nessa tela temos links para os downloads de todos os arquivos. Precisamos portanto iterar sobre eles e guardar esses links em um arquivo para postetiormente fazer o download de cada um deles."
   ]
  },
  {
   "cell_type": "code",
   "execution_count": 8,
   "metadata": {},
   "outputs": [
    {
     "name": "stdout",
     "output_type": "stream",
     "text": [
      "<selenium.webdriver.remote.webelement.WebElement (session=\"d9927db16dac8e7b7fc7096b67fc97ce\", element=\"0.523343106899089-32\")>\n",
      "<selenium.webdriver.remote.webelement.WebElement (session=\"d9927db16dac8e7b7fc7096b67fc97ce\", element=\"0.523343106899089-33\")>\n",
      "<selenium.webdriver.remote.webelement.WebElement (session=\"d9927db16dac8e7b7fc7096b67fc97ce\", element=\"0.523343106899089-34\")>\n",
      "<selenium.webdriver.remote.webelement.WebElement (session=\"d9927db16dac8e7b7fc7096b67fc97ce\", element=\"0.523343106899089-35\")>\n",
      "<selenium.webdriver.remote.webelement.WebElement (session=\"d9927db16dac8e7b7fc7096b67fc97ce\", element=\"0.523343106899089-36\")>\n",
      "<selenium.webdriver.remote.webelement.WebElement (session=\"d9927db16dac8e7b7fc7096b67fc97ce\", element=\"0.523343106899089-37\")>\n",
      "<selenium.webdriver.remote.webelement.WebElement (session=\"d9927db16dac8e7b7fc7096b67fc97ce\", element=\"0.523343106899089-38\")>\n",
      "<selenium.webdriver.remote.webelement.WebElement (session=\"d9927db16dac8e7b7fc7096b67fc97ce\", element=\"0.523343106899089-39\")>\n",
      "<selenium.webdriver.remote.webelement.WebElement (session=\"d9927db16dac8e7b7fc7096b67fc97ce\", element=\"0.523343106899089-50\")>\n",
      "<selenium.webdriver.remote.webelement.WebElement (session=\"d9927db16dac8e7b7fc7096b67fc97ce\", element=\"0.523343106899089-51\")>\n",
      "<selenium.webdriver.remote.webelement.WebElement (session=\"d9927db16dac8e7b7fc7096b67fc97ce\", element=\"0.523343106899089-52\")>\n",
      "<selenium.webdriver.remote.webelement.WebElement (session=\"d9927db16dac8e7b7fc7096b67fc97ce\", element=\"0.523343106899089-53\")>\n",
      "<selenium.webdriver.remote.webelement.WebElement (session=\"d9927db16dac8e7b7fc7096b67fc97ce\", element=\"0.523343106899089-54\")>\n",
      "<selenium.webdriver.remote.webelement.WebElement (session=\"d9927db16dac8e7b7fc7096b67fc97ce\", element=\"0.523343106899089-55\")>\n",
      "<selenium.webdriver.remote.webelement.WebElement (session=\"d9927db16dac8e7b7fc7096b67fc97ce\", element=\"0.523343106899089-56\")>\n",
      "<selenium.webdriver.remote.webelement.WebElement (session=\"d9927db16dac8e7b7fc7096b67fc97ce\", element=\"0.523343106899089-57\")>\n",
      "<selenium.webdriver.remote.webelement.WebElement (session=\"d9927db16dac8e7b7fc7096b67fc97ce\", element=\"0.523343106899089-66\")>\n",
      "<selenium.webdriver.remote.webelement.WebElement (session=\"d9927db16dac8e7b7fc7096b67fc97ce\", element=\"0.523343106899089-67\")>\n",
      "<selenium.webdriver.remote.webelement.WebElement (session=\"d9927db16dac8e7b7fc7096b67fc97ce\", element=\"0.523343106899089-68\")>\n",
      "<selenium.webdriver.remote.webelement.WebElement (session=\"d9927db16dac8e7b7fc7096b67fc97ce\", element=\"0.523343106899089-69\")>\n",
      "<selenium.webdriver.remote.webelement.WebElement (session=\"d9927db16dac8e7b7fc7096b67fc97ce\", element=\"0.523343106899089-70\")>\n",
      "<selenium.webdriver.remote.webelement.WebElement (session=\"d9927db16dac8e7b7fc7096b67fc97ce\", element=\"0.523343106899089-71\")>\n",
      "<selenium.webdriver.remote.webelement.WebElement (session=\"d9927db16dac8e7b7fc7096b67fc97ce\", element=\"0.523343106899089-72\")>\n",
      "<selenium.webdriver.remote.webelement.WebElement (session=\"d9927db16dac8e7b7fc7096b67fc97ce\", element=\"0.523343106899089-73\")>\n",
      "<selenium.webdriver.remote.webelement.WebElement (session=\"d9927db16dac8e7b7fc7096b67fc97ce\", element=\"0.523343106899089-82\")>\n",
      "<selenium.webdriver.remote.webelement.WebElement (session=\"d9927db16dac8e7b7fc7096b67fc97ce\", element=\"0.523343106899089-83\")>\n",
      "<selenium.webdriver.remote.webelement.WebElement (session=\"d9927db16dac8e7b7fc7096b67fc97ce\", element=\"0.523343106899089-84\")>\n",
      "<selenium.webdriver.remote.webelement.WebElement (session=\"d9927db16dac8e7b7fc7096b67fc97ce\", element=\"0.523343106899089-85\")>\n",
      "<selenium.webdriver.remote.webelement.WebElement (session=\"d9927db16dac8e7b7fc7096b67fc97ce\", element=\"0.523343106899089-86\")>\n",
      "<selenium.webdriver.remote.webelement.WebElement (session=\"d9927db16dac8e7b7fc7096b67fc97ce\", element=\"0.523343106899089-87\")>\n",
      "<selenium.webdriver.remote.webelement.WebElement (session=\"d9927db16dac8e7b7fc7096b67fc97ce\", element=\"0.523343106899089-88\")>\n",
      "<selenium.webdriver.remote.webelement.WebElement (session=\"d9927db16dac8e7b7fc7096b67fc97ce\", element=\"0.523343106899089-89\")>\n",
      "<selenium.webdriver.remote.webelement.WebElement (session=\"d9927db16dac8e7b7fc7096b67fc97ce\", element=\"0.523343106899089-98\")>\n",
      "<selenium.webdriver.remote.webelement.WebElement (session=\"d9927db16dac8e7b7fc7096b67fc97ce\", element=\"0.523343106899089-99\")>\n",
      "<selenium.webdriver.remote.webelement.WebElement (session=\"d9927db16dac8e7b7fc7096b67fc97ce\", element=\"0.523343106899089-100\")>\n",
      "<selenium.webdriver.remote.webelement.WebElement (session=\"d9927db16dac8e7b7fc7096b67fc97ce\", element=\"0.523343106899089-101\")>\n",
      "<selenium.webdriver.remote.webelement.WebElement (session=\"d9927db16dac8e7b7fc7096b67fc97ce\", element=\"0.523343106899089-102\")>\n",
      "<selenium.webdriver.remote.webelement.WebElement (session=\"d9927db16dac8e7b7fc7096b67fc97ce\", element=\"0.523343106899089-103\")>\n",
      "<selenium.webdriver.remote.webelement.WebElement (session=\"d9927db16dac8e7b7fc7096b67fc97ce\", element=\"0.523343106899089-104\")>\n",
      "<selenium.webdriver.remote.webelement.WebElement (session=\"d9927db16dac8e7b7fc7096b67fc97ce\", element=\"0.523343106899089-105\")>\n",
      "<selenium.webdriver.remote.webelement.WebElement (session=\"d9927db16dac8e7b7fc7096b67fc97ce\", element=\"0.523343106899089-114\")>\n",
      "<selenium.webdriver.remote.webelement.WebElement (session=\"d9927db16dac8e7b7fc7096b67fc97ce\", element=\"0.523343106899089-115\")>\n",
      "<selenium.webdriver.remote.webelement.WebElement (session=\"d9927db16dac8e7b7fc7096b67fc97ce\", element=\"0.523343106899089-116\")>\n",
      "<selenium.webdriver.remote.webelement.WebElement (session=\"d9927db16dac8e7b7fc7096b67fc97ce\", element=\"0.523343106899089-117\")>\n",
      "<selenium.webdriver.remote.webelement.WebElement (session=\"d9927db16dac8e7b7fc7096b67fc97ce\", element=\"0.523343106899089-118\")>\n",
      "<selenium.webdriver.remote.webelement.WebElement (session=\"d9927db16dac8e7b7fc7096b67fc97ce\", element=\"0.523343106899089-119\")>\n",
      "<selenium.webdriver.remote.webelement.WebElement (session=\"d9927db16dac8e7b7fc7096b67fc97ce\", element=\"0.523343106899089-120\")>\n",
      "<selenium.webdriver.remote.webelement.WebElement (session=\"d9927db16dac8e7b7fc7096b67fc97ce\", element=\"0.523343106899089-121\")>\n",
      "<selenium.webdriver.remote.webelement.WebElement (session=\"d9927db16dac8e7b7fc7096b67fc97ce\", element=\"0.523343106899089-130\")>\n",
      "<selenium.webdriver.remote.webelement.WebElement (session=\"d9927db16dac8e7b7fc7096b67fc97ce\", element=\"0.523343106899089-131\")>\n",
      "<selenium.webdriver.remote.webelement.WebElement (session=\"d9927db16dac8e7b7fc7096b67fc97ce\", element=\"0.523343106899089-132\")>\n",
      "<selenium.webdriver.remote.webelement.WebElement (session=\"d9927db16dac8e7b7fc7096b67fc97ce\", element=\"0.523343106899089-133\")>\n",
      "<selenium.webdriver.remote.webelement.WebElement (session=\"d9927db16dac8e7b7fc7096b67fc97ce\", element=\"0.523343106899089-134\")>\n",
      "<selenium.webdriver.remote.webelement.WebElement (session=\"d9927db16dac8e7b7fc7096b67fc97ce\", element=\"0.523343106899089-135\")>\n",
      "<selenium.webdriver.remote.webelement.WebElement (session=\"d9927db16dac8e7b7fc7096b67fc97ce\", element=\"0.523343106899089-136\")>\n",
      "<selenium.webdriver.remote.webelement.WebElement (session=\"d9927db16dac8e7b7fc7096b67fc97ce\", element=\"0.523343106899089-137\")>\n",
      "<selenium.webdriver.remote.webelement.WebElement (session=\"d9927db16dac8e7b7fc7096b67fc97ce\", element=\"0.523343106899089-146\")>\n",
      "<selenium.webdriver.remote.webelement.WebElement (session=\"d9927db16dac8e7b7fc7096b67fc97ce\", element=\"0.523343106899089-147\")>\n",
      "<selenium.webdriver.remote.webelement.WebElement (session=\"d9927db16dac8e7b7fc7096b67fc97ce\", element=\"0.523343106899089-148\")>\n",
      "<selenium.webdriver.remote.webelement.WebElement (session=\"d9927db16dac8e7b7fc7096b67fc97ce\", element=\"0.523343106899089-149\")>\n",
      "<selenium.webdriver.remote.webelement.WebElement (session=\"d9927db16dac8e7b7fc7096b67fc97ce\", element=\"0.523343106899089-150\")>\n",
      "<selenium.webdriver.remote.webelement.WebElement (session=\"d9927db16dac8e7b7fc7096b67fc97ce\", element=\"0.523343106899089-151\")>\n",
      "<selenium.webdriver.remote.webelement.WebElement (session=\"d9927db16dac8e7b7fc7096b67fc97ce\", element=\"0.523343106899089-152\")>\n",
      "<selenium.webdriver.remote.webelement.WebElement (session=\"d9927db16dac8e7b7fc7096b67fc97ce\", element=\"0.523343106899089-153\")>\n",
      "<selenium.webdriver.remote.webelement.WebElement (session=\"d9927db16dac8e7b7fc7096b67fc97ce\", element=\"0.523343106899089-162\")>\n"
     ]
    },
    {
     "name": "stdout",
     "output_type": "stream",
     "text": [
      "<selenium.webdriver.remote.webelement.WebElement (session=\"d9927db16dac8e7b7fc7096b67fc97ce\", element=\"0.523343106899089-163\")>\n",
      "<selenium.webdriver.remote.webelement.WebElement (session=\"d9927db16dac8e7b7fc7096b67fc97ce\", element=\"0.523343106899089-164\")>\n",
      "<selenium.webdriver.remote.webelement.WebElement (session=\"d9927db16dac8e7b7fc7096b67fc97ce\", element=\"0.523343106899089-165\")>\n",
      "<selenium.webdriver.remote.webelement.WebElement (session=\"d9927db16dac8e7b7fc7096b67fc97ce\", element=\"0.523343106899089-166\")>\n",
      "<selenium.webdriver.remote.webelement.WebElement (session=\"d9927db16dac8e7b7fc7096b67fc97ce\", element=\"0.523343106899089-167\")>\n",
      "<selenium.webdriver.remote.webelement.WebElement (session=\"d9927db16dac8e7b7fc7096b67fc97ce\", element=\"0.523343106899089-168\")>\n",
      "<selenium.webdriver.remote.webelement.WebElement (session=\"d9927db16dac8e7b7fc7096b67fc97ce\", element=\"0.523343106899089-169\")>\n",
      "<selenium.webdriver.remote.webelement.WebElement (session=\"d9927db16dac8e7b7fc7096b67fc97ce\", element=\"0.523343106899089-178\")>\n",
      "<selenium.webdriver.remote.webelement.WebElement (session=\"d9927db16dac8e7b7fc7096b67fc97ce\", element=\"0.523343106899089-179\")>\n",
      "<selenium.webdriver.remote.webelement.WebElement (session=\"d9927db16dac8e7b7fc7096b67fc97ce\", element=\"0.523343106899089-180\")>\n",
      "<selenium.webdriver.remote.webelement.WebElement (session=\"d9927db16dac8e7b7fc7096b67fc97ce\", element=\"0.523343106899089-181\")>\n",
      "<selenium.webdriver.remote.webelement.WebElement (session=\"d9927db16dac8e7b7fc7096b67fc97ce\", element=\"0.523343106899089-182\")>\n",
      "<selenium.webdriver.remote.webelement.WebElement (session=\"d9927db16dac8e7b7fc7096b67fc97ce\", element=\"0.523343106899089-183\")>\n",
      "<selenium.webdriver.remote.webelement.WebElement (session=\"d9927db16dac8e7b7fc7096b67fc97ce\", element=\"0.523343106899089-184\")>\n",
      "<selenium.webdriver.remote.webelement.WebElement (session=\"d9927db16dac8e7b7fc7096b67fc97ce\", element=\"0.523343106899089-185\")>\n",
      "<selenium.webdriver.remote.webelement.WebElement (session=\"d9927db16dac8e7b7fc7096b67fc97ce\", element=\"0.523343106899089-194\")>\n",
      "<selenium.webdriver.remote.webelement.WebElement (session=\"d9927db16dac8e7b7fc7096b67fc97ce\", element=\"0.523343106899089-195\")>\n",
      "<selenium.webdriver.remote.webelement.WebElement (session=\"d9927db16dac8e7b7fc7096b67fc97ce\", element=\"0.523343106899089-196\")>\n",
      "<selenium.webdriver.remote.webelement.WebElement (session=\"d9927db16dac8e7b7fc7096b67fc97ce\", element=\"0.523343106899089-197\")>\n",
      "<selenium.webdriver.remote.webelement.WebElement (session=\"d9927db16dac8e7b7fc7096b67fc97ce\", element=\"0.523343106899089-198\")>\n",
      "<selenium.webdriver.remote.webelement.WebElement (session=\"d9927db16dac8e7b7fc7096b67fc97ce\", element=\"0.523343106899089-199\")>\n",
      "<selenium.webdriver.remote.webelement.WebElement (session=\"d9927db16dac8e7b7fc7096b67fc97ce\", element=\"0.523343106899089-200\")>\n",
      "<selenium.webdriver.remote.webelement.WebElement (session=\"d9927db16dac8e7b7fc7096b67fc97ce\", element=\"0.523343106899089-201\")>\n",
      "<selenium.webdriver.remote.webelement.WebElement (session=\"d9927db16dac8e7b7fc7096b67fc97ce\", element=\"0.523343106899089-210\")>\n",
      "<selenium.webdriver.remote.webelement.WebElement (session=\"d9927db16dac8e7b7fc7096b67fc97ce\", element=\"0.523343106899089-211\")>\n",
      "<selenium.webdriver.remote.webelement.WebElement (session=\"d9927db16dac8e7b7fc7096b67fc97ce\", element=\"0.523343106899089-212\")>\n",
      "<selenium.webdriver.remote.webelement.WebElement (session=\"d9927db16dac8e7b7fc7096b67fc97ce\", element=\"0.523343106899089-213\")>\n",
      "<selenium.webdriver.remote.webelement.WebElement (session=\"d9927db16dac8e7b7fc7096b67fc97ce\", element=\"0.523343106899089-214\")>\n",
      "<selenium.webdriver.remote.webelement.WebElement (session=\"d9927db16dac8e7b7fc7096b67fc97ce\", element=\"0.523343106899089-215\")>\n",
      "<selenium.webdriver.remote.webelement.WebElement (session=\"d9927db16dac8e7b7fc7096b67fc97ce\", element=\"0.523343106899089-216\")>\n",
      "<selenium.webdriver.remote.webelement.WebElement (session=\"d9927db16dac8e7b7fc7096b67fc97ce\", element=\"0.523343106899089-217\")>\n",
      "CPU times: user 1.12 s, sys: 82.8 ms, total: 1.21 s\n",
      "Wall time: 1min 27s\n"
     ]
    }
   ],
   "source": [
    "%%time\n",
    "\n",
    "\n",
    "# abrindo  o arquivo em modo append\n",
    "f = open(\"download_lotes_geosampa.txt\", \"w+\")\n",
    "\n",
    "# iterando sobre os links\n",
    "while True:\n",
    "    links_arquivos = driver.find_elements_by_class_name(\"down\")\n",
    "\n",
    "    for link in links_arquivos:\n",
    "        print(link)\n",
    "        if 'SHP_LOTES' in link.get_attribute(\"href\"):\n",
    "            l = link\n",
    "#             print(l)\n",
    "            driver.execute_script(\"arguments[0].click();\", l)\n",
    "            driver.implicitly_wait(1)\n",
    "            b = driver.find_element_by_xpath(\"//*[contains(text(), 'De acordo')]\")\n",
    "            driver.execute_script(\"arguments[0].click();\", b)\n",
    "            driver.implicitly_wait(1)\n",
    "#             f.write(link.get_attribute(\"href\")+'\\n')\n",
    "            #link.click()\n",
    "    if driver.find_element_by_xpath('//*[contains(@id, \"next__P_\")]').get_attribute('class').find('disabled') < 0:\n",
    "        n = driver.find_element_by_xpath('//*[contains(@id, \"next__P_\")]/span')\n",
    "        driver.execute_script(\"arguments[0].click();\", n)\n",
    "    else:\n",
    "        break\n",
    "\n",
    "# fechando o arquivo        \n",
    "f.close()"
   ]
  },
  {
   "cell_type": "code",
   "execution_count": null,
   "metadata": {},
   "outputs": [],
   "source": []
  }
 ],
 "metadata": {
  "kernelspec": {
   "display_name": "Python 3",
   "language": "python",
   "name": "python3"
  },
  "language_info": {
   "codemirror_mode": {
    "name": "ipython",
    "version": 3
   },
   "file_extension": ".py",
   "mimetype": "text/x-python",
   "name": "python",
   "nbconvert_exporter": "python",
   "pygments_lexer": "ipython3",
   "version": "3.8.2"
  }
 },
 "nbformat": 4,
 "nbformat_minor": 4
}
