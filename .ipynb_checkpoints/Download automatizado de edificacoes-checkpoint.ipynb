{
 "cells": [
  {
   "cell_type": "markdown",
   "metadata": {},
   "source": [
    "# Download automatizado de edificações\n",
    "\n",
    "## Introdução\n",
    "\n",
    "Os arquivos de edificações estão divididos por sub-prefeituras. Isso acontece em outros casos e é possível adaptar esse script para solucionar dificuldades similares.\n",
    "É comum precisarmos desse arquivo para fazer alguma análise e sempre acaba ficando a dificuldade de se obeter o conjunto total de feições.\n",
    "\n",
    "Portanto um robo automatizado que faça o download dos arquivos de maneira consistente pode ser uma ferramenta útil de trabalho para vc que precisa trabalhar com dados de toda a cidade.\n",
    "\n",
    "## Metodologia\n",
    "\n",
    "Para fazermos o download de forma automatizada vamos usar a linguagem de programação Python com o WebDriver Selenium"
   ]
  },
  {
   "cell_type": "markdown",
   "metadata": {},
   "source": [
    "### Abrindo so site do Geosampa\n",
    "\n",
    "O primeiro passo é abrir o site do GeoSampa em um WebDriver e simular um usuário fazendo o download de todos os arquivos de lote"
   ]
  },
  {
   "cell_type": "code",
   "execution_count": 1,
   "metadata": {},
   "outputs": [
    {
     "name": "stderr",
     "output_type": "stream",
     "text": [
      "C:\\Users\\D877341\\AppData\\Local\\Continuum\\miniconda3\\lib\\site-packages\\ipykernel_launcher.py:11: DeprecationWarning: use options instead of chrome_options\n",
      "  # This is added back by InteractiveShellApp.init_path()\n"
     ]
    }
   ],
   "source": [
    "from selenium import webdriver\n",
    "\n",
    "options = webdriver.ChromeOptions()\n",
    "\n",
    "# Descomente a linha abaixo caso não precise visualizar o browser\n",
    "# options.add_argument('headless') \n",
    "\n",
    "options.add_argument('window-size=900x1080')\n",
    "\n",
    "# Inicializando o driver, que é uma instância de um browser\n",
    "driver = webdriver.Chrome(chrome_options=options)\n",
    "driver.get(\"http://geosampa.prefeitura.sp.gov.br/PaginasPublicas/_SBC.aspx\")"
   ]
  },
  {
   "cell_type": "markdown",
   "metadata": {},
   "source": [
    "### Clicando no botão de downloads"
   ]
  },
  {
   "cell_type": "code",
   "execution_count": 2,
   "metadata": {},
   "outputs": [],
   "source": [
    "#popup = driver.find_element_by_xpath('//*[@id=\"toPopup\"]/div[1]')\n",
    "#driver.execute_script(\"arguments[0].click();\", popup)\n",
    "\n",
    "#driver.execute_script('document.getElementById(\"backgroundPopup\").remove()')\n",
    "driver.implicitly_wait(1)\n",
    "\n",
    "botao_downloads = driver.find_element_by_xpath('//*[contains(@id, \"OpenLayers_Control_Panel\")]/div[7]')\n",
    "botao_downloads.click()"
   ]
  },
  {
   "cell_type": "markdown",
   "metadata": {},
   "source": [
    "### Escolhendo a camada\n",
    "\n",
    "Agora precisamos escolher no menu DropDown a opção 'Cadastro' e então a opção 'Lotes'. Quando uma nova janela passa a ser apresentada para podermos escolher 'Shapefiles'"
   ]
  },
  {
   "cell_type": "code",
   "execution_count": 3,
   "metadata": {},
   "outputs": [],
   "source": [
    "driver.implicitly_wait(1)\n",
    "\n",
    "from selenium.webdriver.support.select import Select\n",
    "combo_download = Select(driver.find_element_by_id('cboCamadas'))\n",
    "combo_download.select_by_visible_text('Habitação e Edificação')\n",
    "\n",
    "driver.implicitly_wait(1)\n",
    "\n",
    "sub_combo_download = Select(driver.find_element_by_id('cboSubCamadas'))\n",
    "sub_combo_download.select_by_visible_text('Edificação')\n",
    "\n",
    "driver.implicitly_wait(1)\n",
    "\n",
    "link_ok = driver.find_element_by_xpath('//*[@id=\"popup_ok\"]')\n",
    "link_ok.click()\n",
    "\n",
    "driver.implicitly_wait(1)\n",
    "\n",
    "link_shps = driver.find_element_by_xpath('//*[@id=\"1\"]/td[2]/a[2]')\n",
    "link_shps.click()"
   ]
  },
  {
   "cell_type": "markdown",
   "metadata": {},
   "source": [
    "### Iterando sobre os arquivos disponíveis para download\n",
    "\n",
    "Nessa tela temos links para os downloads de todos os arquivos. Precisamos portanto iterar sobre eles e guardar esses links em um arquivo para postetiormente fazer o download de cada um deles."
   ]
  },
  {
   "cell_type": "code",
   "execution_count": 4,
   "metadata": {},
   "outputs": [
    {
     "name": "stdout",
     "output_type": "stream",
     "text": [
      "Wall time: 1.31 s\n"
     ]
    }
   ],
   "source": [
    "%%time\n",
    "\n",
    "\n",
    "# abrindo  o arquivo em modo append\n",
    "f = open(\"download_edificacoes_geosampa.txt\", \"w+\")\n",
    "\n",
    "# iterando sobre os links\n",
    "while True:\n",
    "    links_arquivos = driver.find_elements_by_class_name(\"down\")\n",
    "    for link in links_arquivos:\n",
    "        if 'SHP_edificacao' in link.get_attribute(\"href\"):\n",
    "            f.write(link.get_attribute(\"href\")+'\\n')\n",
    "            #link.click()\n",
    "    if driver.find_element_by_xpath('//*[contains(@id, \"next__P_\")]').get_attribute('class').find('disabled') < 0:\n",
    "        driver.find_element_by_xpath('//*[contains(@id, \"next__P_\")]/span').click()\n",
    "    else:\n",
    "        break\n",
    "\n",
    "# fechando o arquivo        \n",
    "f.close()"
   ]
  },
  {
   "cell_type": "markdown",
   "metadata": {},
   "source": [
    "### Fazendo o download dos arquivos\n",
    "\n",
    "Agora que temos os links, podemos fazer o download dos arquivos individualmente"
   ]
  },
  {
   "cell_type": "code",
   "execution_count": 13,
   "metadata": {},
   "outputs": [
    {
     "name": "stderr",
     "output_type": "stream",
     "text": [
      "C:\\Users\\D877341\\AppData\\Local\\Continuum\\miniconda3\\lib\\site-packages\\ipykernel_launcher.py:14: DeprecationWarning: use options instead of chrome_options\n",
      "  \n"
     ]
    }
   ],
   "source": [
    "import os\n",
    "cwd = os.getcwd()\n",
    "\n",
    "from selenium.webdriver.chrome.options import Options\n",
    "\n",
    "options = Options()\n",
    "options.add_experimental_option(\"prefs\", {\n",
    "  \"download.default_directory\": cwd+\"\\downloads\\\\\",\n",
    "  \"download.prompt_for_download\": False,\n",
    "  \"download.directory_upgrade\": True,\n",
    "  \"safebrowsing.enabled\": True\n",
    "})\n",
    "\n",
    "driver = webdriver.Chrome(chrome_options=options)\n",
    "\n",
    "with open(\"download_edificacoes_geosampa.txt\",\"r\") as f:\n",
    "    line = f.readline()\n",
    "    while line:\n",
    "        driver.get(line)\n",
    "        line = f.readline()\n"
   ]
  },
  {
   "cell_type": "markdown",
   "metadata": {},
   "source": [
    "### Descomprimindo os arquivos baixados\n",
    "\n",
    "Agora que os arquivos estão baixados podemos descompacta-los"
   ]
  },
  {
   "cell_type": "code",
   "execution_count": 18,
   "metadata": {},
   "outputs": [],
   "source": [
    "import zlib\n",
    "import zipfile\n",
    "import os"
   ]
  },
  {
   "cell_type": "code",
   "execution_count": 17,
   "metadata": {},
   "outputs": [],
   "source": [
    "directory = cwd+\"/downloads/\"\n",
    "for entry in os.scandir(directory):\n",
    "    shp_zip = zipfile.ZipFile(entry)\n",
    "    shp_zip.extractall(cwd+\"/shp_files/\")\n",
    "    shp_zip.close()"
   ]
  },
  {
   "cell_type": "markdown",
   "metadata": {},
   "source": [
    "### Concatenando todos os ShapeFiles em uma única camada\n",
    "\n",
    "Agora que temos 96 camadas, uma para cada distrito, seria interessante concatenarmos todas elas para trabalhar apenas com uma geral para toda a cidade."
   ]
  },
  {
   "cell_type": "code",
   "execution_count": 2,
   "metadata": {},
   "outputs": [],
   "source": [
    "import pandas as pd\n",
    "import geopandas as gpd\n",
    "import datetime\n",
    "date_string = datetime.datetime.now().strftime(\"%Y-%m-%d\")\n",
    "\n",
    "gdfs = []\n",
    "\n",
    "rootdir = cwd+\"\\shp_files\\\"\n",
    "\n",
    "for subdir, dirs, files in os.walk(rootdir):\n",
    "    for file in files:\n",
    "        if file.endswith('.shp') and file.startswith('SHP_edificacao'):\n",
    "            gdfs.append(gpd.read_file(os.path.join(subdir, file)))\n",
    "            \n",
    "df = pd.concat(gdfs)\n",
    "gdf = gpd.GeoDataFrame(df, crs={'init' :'epsg:31983'}, geometry=df['geometry'])\n",
    "gdf.to_file(cwd+'\\edificacoes-geosampa.shp')\n"
   ]
  }
 ],
 "metadata": {
  "kernelspec": {
   "display_name": "Python 3",
   "language": "python",
   "name": "python3"
  },
  "language_info": {
   "codemirror_mode": {
    "name": "ipython",
    "version": 3
   },
   "file_extension": ".py",
   "mimetype": "text/x-python",
   "name": "python",
   "nbconvert_exporter": "python",
   "pygments_lexer": "ipython3",
   "version": "3.7.6"
  }
 },
 "nbformat": 4,
 "nbformat_minor": 4
}
