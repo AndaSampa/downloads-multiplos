{
 "cells": [
  {
   "attachments": {},
   "cell_type": "markdown",
   "metadata": {},
   "source": [
    "# Download automatizado de lotes\n",
    "\n",
    "## Introdução\n",
    "\n",
    "Os arquivos de lotes estão divididos por sub-prefeituras. Isso acontece em outros casos e é possível adaptar esse script para solucionar dificuldades similares.\n",
    "É comum precisarmos desse arquivo para fazer alguma análise e sempre acaba ficando a dificuldade de se obeter o conjunto total de feições.\n",
    "\n",
    "Portanto um robo automatizado que faça o download dos arquivos de maneira consistente pode ser uma ferramenta útil de trabalho para vc que precisa trabalhar com dados de toda a cidade.\n",
    "\n",
    "## Metodologia\n",
    "\n",
    "Para fazermos o download de forma automatizada vamos usar a linguagem de programação Python com o WebDriver Selenium\n",
    "\n",
    "## Resultados\n",
    "\n",
    "Os resultados do último download realizado em 07/03/2023 está disponível para download no link: https://www.kaggle.com/datasets/andasampa/geosampa-no-kaggle\n"
   ]
  },
  {
   "cell_type": "markdown",
   "metadata": {},
   "source": [
    "### Abrindo so site do Geosampa\n",
    "\n",
    "O primeiro passo é abrir o site do GeoSampa em um WebDriver e simular um usuário fazendo o download de todos os arquivos de lote"
   ]
  },
  {
   "cell_type": "code",
   "execution_count": 17,
   "metadata": {},
   "outputs": [],
   "source": [
    "from webdriver_manager.chrome import ChromeDriverManager \n",
    "from selenium import webdriver \n",
    "from selenium.webdriver.chrome.service import Service as ChromeService\n",
    "from selenium.webdriver.common.by import By\n",
    "\n",
    "\n",
    "browser = webdriver.Chrome(service=ChromeService(ChromeDriverManager().install())) \n",
    "browser.implicitly_wait(5)\n"
   ]
  },
  {
   "cell_type": "code",
   "execution_count": 18,
   "metadata": {},
   "outputs": [],
   "source": [
    "browser.get(\"http://geosampa.prefeitura.sp.gov.br/PaginasPublicas/_SBC.aspx\")"
   ]
  },
  {
   "cell_type": "markdown",
   "metadata": {},
   "source": [
    "### Clicando no botão de downloads"
   ]
  },
  {
   "cell_type": "code",
   "execution_count": 19,
   "metadata": {},
   "outputs": [],
   "source": [
    "#popup = driver.find_element_by_xpath('//*[@id=\"toPopup\"]/div[1]')\n",
    "#driver.execute_script(\"arguments[0].click();\", popup)\n",
    "\n",
    "#driver.execute_script('document.getElementById(\"backgroundPopup\").remove()')\n",
    "driver.implicitly_wait(1)\n",
    "\n",
    "botao_downloads = browser.find_element(By.XPATH, '//*[contains(@id, \"OpenLayers_Control_Panel\")]/div[7]')\n",
    "botao_downloads.click()\n"
   ]
  },
  {
   "cell_type": "code",
   "execution_count": 22,
   "metadata": {},
   "outputs": [],
   "source": [
    "#######\n",
    "\n",
    "driver.implicitly_wait(1)\n",
    "\n",
    "from selenium.webdriver.support.select import Select\n",
    "combo_download = Select(browser.find_element(By.ID, 'cboCamadas'))"
   ]
  },
  {
   "cell_type": "code",
   "execution_count": 23,
   "metadata": {},
   "outputs": [
    {
     "data": {
      "text/plain": [
       "['',\n",
       " 'Cidade Solidária',\n",
       " 'Limites Administrativos',\n",
       " 'População',\n",
       " 'Equipamentos',\n",
       " 'Transporte',\n",
       " 'Sistema Viário',\n",
       " 'Habitação e Edificação',\n",
       " 'Proteção e Defesa Civil',\n",
       " 'Infraestrutura Urbana',\n",
       " 'Verde e Recursos Naturais',\n",
       " 'Meio Físico',\n",
       " 'Rural',\n",
       " 'Cadastro',\n",
       " 'Legislação Urbana',\n",
       " 'Patrimônio Cultural',\n",
       " 'Acessibilidade',\n",
       " 'Atlas Ambiental',\n",
       " 'Economia',\n",
       " 'Imagens Satelites',\n",
       " 'Mosaico de Ortofotos',\n",
       " 'Plantas e Mapas Históricos',\n",
       " 'Articulacao de Imagens',\n",
       " 'Atendimento ao Cidadão',\n",
       " 'Proteção aos Aeródromos',\n",
       " 'Licenciamento Ambiental',\n",
       " 'Limpeza Urbana']"
      ]
     },
     "execution_count": 23,
     "metadata": {},
     "output_type": "execute_result"
    }
   ],
   "source": [
    "list(map(lambda x: x.text, combo_download.options))"
   ]
  },
  {
   "cell_type": "markdown",
   "metadata": {},
   "source": [
    "### Escolhendo a camada\n",
    "\n",
    "Agora precisamos escolher no menu DropDown a opção 'Cadastro' e então a opção 'Lotes'. Quando uma nova janela passa a ser apresentada para podermos escolher 'Shapefiles'"
   ]
  },
  {
   "cell_type": "code",
   "execution_count": 27,
   "metadata": {},
   "outputs": [],
   "source": [
    "driver.implicitly_wait(1)\n",
    "\n",
    "from selenium.webdriver.support.select import Select\n",
    "combo_download = Select(browser.find_element(By.ID, 'cboCamadas'))\n",
    "combo_download.select_by_visible_text('Cadastro')\n",
    "\n",
    "browser.implicitly_wait(1)\n",
    "\n",
    "sub_combo_download = Select(browser.find_element(By.ID, 'cboSubCamadas'))\n",
    "sub_combo_download.select_by_visible_text('Lotes')\n",
    "\n",
    "browser.implicitly_wait(1)\n",
    "\n",
    "link_ok = browser.find_element(By.XPATH, '//*[@id=\"1\"]/td[2]/a[3]')\n",
    "link_ok.click()\n",
    "\n",
    "browser.implicitly_wait(1)\n",
    "\n",
    "# link_shps = driver.find_element_by_xpath('//*[@id=\"1\"]/td[2]/a[2]')\n",
    "# link_shps.click()"
   ]
  },
  {
   "cell_type": "markdown",
   "metadata": {},
   "source": [
    "### Iterando sobre os arquivos disponíveis para download\n",
    "\n",
    "Nessa tela temos links para os downloads de todos os arquivos. Precisamos portanto iterar sobre eles e guardar esses links em um arquivo para postetiormente fazer o download de cada um deles."
   ]
  },
  {
   "cell_type": "code",
   "execution_count": 29,
   "metadata": {},
   "outputs": [
    {
     "name": "stdout",
     "output_type": "stream",
     "text": [
      "<selenium.webdriver.remote.webelement.WebElement (session=\"e8d06f0082cf06e8142c33b8b1e26648\", element=\"d5bebf8d-5a7c-4e35-b9d7-33092c2cd45e\")>\n",
      "<selenium.webdriver.remote.webelement.WebElement (session=\"e8d06f0082cf06e8142c33b8b1e26648\", element=\"4a4819b4-913e-4ddb-bc15-cb69abc4d386\")>\n",
      "<selenium.webdriver.remote.webelement.WebElement (session=\"e8d06f0082cf06e8142c33b8b1e26648\", element=\"b2be31d8-10e9-4b05-be6a-73dde5ffa246\")>\n",
      "<selenium.webdriver.remote.webelement.WebElement (session=\"e8d06f0082cf06e8142c33b8b1e26648\", element=\"efe97901-6fd2-43a8-bcc3-d68e99616c2b\")>\n",
      "<selenium.webdriver.remote.webelement.WebElement (session=\"e8d06f0082cf06e8142c33b8b1e26648\", element=\"a5184a0b-0d17-4dc6-8694-2de92830d5a5\")>\n",
      "<selenium.webdriver.remote.webelement.WebElement (session=\"e8d06f0082cf06e8142c33b8b1e26648\", element=\"758f8eaa-037a-4ad0-b87c-54a7c4fa5d8b\")>\n",
      "<selenium.webdriver.remote.webelement.WebElement (session=\"e8d06f0082cf06e8142c33b8b1e26648\", element=\"458b7583-1462-46f6-84d8-e8562e32ef6c\")>\n",
      "<selenium.webdriver.remote.webelement.WebElement (session=\"e8d06f0082cf06e8142c33b8b1e26648\", element=\"9f2bb1d5-cad3-4484-b73a-6950799af08c\")>\n",
      "<selenium.webdriver.remote.webelement.WebElement (session=\"e8d06f0082cf06e8142c33b8b1e26648\", element=\"84b167be-b15e-43f3-a98a-10ee938a6fe8\")>\n",
      "<selenium.webdriver.remote.webelement.WebElement (session=\"e8d06f0082cf06e8142c33b8b1e26648\", element=\"fd9fc9e2-0957-46a4-bbae-46149c78593f\")>\n",
      "<selenium.webdriver.remote.webelement.WebElement (session=\"e8d06f0082cf06e8142c33b8b1e26648\", element=\"22ef935e-3ac9-406c-86f9-f2d7c3d77796\")>\n",
      "<selenium.webdriver.remote.webelement.WebElement (session=\"e8d06f0082cf06e8142c33b8b1e26648\", element=\"9c8b7daf-3e7b-4d82-ac80-466167c0bab8\")>\n",
      "<selenium.webdriver.remote.webelement.WebElement (session=\"e8d06f0082cf06e8142c33b8b1e26648\", element=\"9dffb385-3e61-4909-9a56-c5f876b301f1\")>\n",
      "<selenium.webdriver.remote.webelement.WebElement (session=\"e8d06f0082cf06e8142c33b8b1e26648\", element=\"94963684-0c4d-48f0-806d-ecb9fc3ba670\")>\n",
      "<selenium.webdriver.remote.webelement.WebElement (session=\"e8d06f0082cf06e8142c33b8b1e26648\", element=\"552b78de-fc2c-40cb-b765-dbae25e3921f\")>\n",
      "<selenium.webdriver.remote.webelement.WebElement (session=\"e8d06f0082cf06e8142c33b8b1e26648\", element=\"35e1b58d-f89e-41fd-843d-7b95300c3ff5\")>\n",
      "<selenium.webdriver.remote.webelement.WebElement (session=\"e8d06f0082cf06e8142c33b8b1e26648\", element=\"704c0aa9-8cee-4359-bec8-637d365d8fdd\")>\n",
      "<selenium.webdriver.remote.webelement.WebElement (session=\"e8d06f0082cf06e8142c33b8b1e26648\", element=\"1d0aa3bd-4c28-41ae-b4df-eb5c329315e3\")>\n",
      "<selenium.webdriver.remote.webelement.WebElement (session=\"e8d06f0082cf06e8142c33b8b1e26648\", element=\"2c953265-bd32-4440-b884-4b6a215c21b4\")>\n",
      "<selenium.webdriver.remote.webelement.WebElement (session=\"e8d06f0082cf06e8142c33b8b1e26648\", element=\"585d61d6-f0e4-43f1-84a7-2ff8fb0c5797\")>\n",
      "<selenium.webdriver.remote.webelement.WebElement (session=\"e8d06f0082cf06e8142c33b8b1e26648\", element=\"1df67fcf-666b-4204-87f2-f5a4e46b188c\")>\n",
      "<selenium.webdriver.remote.webelement.WebElement (session=\"e8d06f0082cf06e8142c33b8b1e26648\", element=\"754c3bde-e67a-4d24-b2e0-6590e7d9da71\")>\n",
      "<selenium.webdriver.remote.webelement.WebElement (session=\"e8d06f0082cf06e8142c33b8b1e26648\", element=\"b34c8727-8d32-41bc-a7b9-c85467cc55e7\")>\n",
      "<selenium.webdriver.remote.webelement.WebElement (session=\"e8d06f0082cf06e8142c33b8b1e26648\", element=\"ba70cb0c-1c80-4f07-92ba-236b6876e774\")>\n",
      "<selenium.webdriver.remote.webelement.WebElement (session=\"e8d06f0082cf06e8142c33b8b1e26648\", element=\"8d4b6cca-7e61-4c00-ac82-28a194cddb6f\")>\n",
      "<selenium.webdriver.remote.webelement.WebElement (session=\"e8d06f0082cf06e8142c33b8b1e26648\", element=\"704e4846-9a62-49f0-b155-95e8be106a42\")>\n",
      "<selenium.webdriver.remote.webelement.WebElement (session=\"e8d06f0082cf06e8142c33b8b1e26648\", element=\"c9fec47f-7b67-4f78-ac7e-bdf4a4892102\")>\n",
      "<selenium.webdriver.remote.webelement.WebElement (session=\"e8d06f0082cf06e8142c33b8b1e26648\", element=\"37ab8003-449f-4d0a-b1f5-1d545bde8436\")>\n",
      "<selenium.webdriver.remote.webelement.WebElement (session=\"e8d06f0082cf06e8142c33b8b1e26648\", element=\"938b8a99-e371-4294-9832-1fe3462bd9fb\")>\n",
      "<selenium.webdriver.remote.webelement.WebElement (session=\"e8d06f0082cf06e8142c33b8b1e26648\", element=\"94b9dfb1-032c-4bf7-aaf7-88c762a459d0\")>\n",
      "<selenium.webdriver.remote.webelement.WebElement (session=\"e8d06f0082cf06e8142c33b8b1e26648\", element=\"a4378b05-997f-4aad-8bf5-52b40121ad52\")>\n",
      "<selenium.webdriver.remote.webelement.WebElement (session=\"e8d06f0082cf06e8142c33b8b1e26648\", element=\"aeb2a0ea-3501-4cf6-b731-d3301085d6be\")>\n",
      "<selenium.webdriver.remote.webelement.WebElement (session=\"e8d06f0082cf06e8142c33b8b1e26648\", element=\"267f1341-2a93-449b-adc8-1e06a146fc71\")>\n",
      "<selenium.webdriver.remote.webelement.WebElement (session=\"e8d06f0082cf06e8142c33b8b1e26648\", element=\"1323c72b-ec38-48f4-8a16-8a85bf7a1304\")>\n",
      "<selenium.webdriver.remote.webelement.WebElement (session=\"e8d06f0082cf06e8142c33b8b1e26648\", element=\"a552e368-ab7a-40cc-8e3b-995364ceeb32\")>\n",
      "<selenium.webdriver.remote.webelement.WebElement (session=\"e8d06f0082cf06e8142c33b8b1e26648\", element=\"8ea69ef0-112c-48fe-a00e-9f3b37db916a\")>\n",
      "<selenium.webdriver.remote.webelement.WebElement (session=\"e8d06f0082cf06e8142c33b8b1e26648\", element=\"e48e8d51-c9c9-4213-8ae0-22733ace6795\")>\n",
      "<selenium.webdriver.remote.webelement.WebElement (session=\"e8d06f0082cf06e8142c33b8b1e26648\", element=\"b6943989-c06a-4d95-bb50-5ad94379f158\")>\n",
      "<selenium.webdriver.remote.webelement.WebElement (session=\"e8d06f0082cf06e8142c33b8b1e26648\", element=\"056aeacc-a5e1-4d21-b434-2fd12688b416\")>\n",
      "<selenium.webdriver.remote.webelement.WebElement (session=\"e8d06f0082cf06e8142c33b8b1e26648\", element=\"0c1e459f-cf2b-42e6-a872-0bc67f4ef008\")>\n",
      "<selenium.webdriver.remote.webelement.WebElement (session=\"e8d06f0082cf06e8142c33b8b1e26648\", element=\"1b018634-1b5d-4077-9c32-2d927ea39638\")>\n",
      "<selenium.webdriver.remote.webelement.WebElement (session=\"e8d06f0082cf06e8142c33b8b1e26648\", element=\"15e0b640-47e0-4362-8684-8803269c1eae\")>\n",
      "<selenium.webdriver.remote.webelement.WebElement (session=\"e8d06f0082cf06e8142c33b8b1e26648\", element=\"6b605555-ed3e-4b67-82b4-564e617cb478\")>\n",
      "<selenium.webdriver.remote.webelement.WebElement (session=\"e8d06f0082cf06e8142c33b8b1e26648\", element=\"b14b8a81-33df-4f32-af95-7de89e204378\")>\n",
      "<selenium.webdriver.remote.webelement.WebElement (session=\"e8d06f0082cf06e8142c33b8b1e26648\", element=\"6c898c8c-a1e2-47fc-bda3-66b5fdf2b428\")>\n",
      "<selenium.webdriver.remote.webelement.WebElement (session=\"e8d06f0082cf06e8142c33b8b1e26648\", element=\"38e08fef-a9be-418e-b56b-2c832a6f7808\")>\n",
      "<selenium.webdriver.remote.webelement.WebElement (session=\"e8d06f0082cf06e8142c33b8b1e26648\", element=\"d2e4b60f-f131-41f1-817b-b9726e47f28b\")>\n",
      "<selenium.webdriver.remote.webelement.WebElement (session=\"e8d06f0082cf06e8142c33b8b1e26648\", element=\"29cc109d-88dd-4a41-9a7b-a424ff2b2bc1\")>\n",
      "<selenium.webdriver.remote.webelement.WebElement (session=\"e8d06f0082cf06e8142c33b8b1e26648\", element=\"0cec712f-9bfe-453e-9fd0-e95df0d9cbdb\")>\n",
      "<selenium.webdriver.remote.webelement.WebElement (session=\"e8d06f0082cf06e8142c33b8b1e26648\", element=\"14c4f74c-cb0f-4915-9456-88a2cb7948f3\")>\n",
      "<selenium.webdriver.remote.webelement.WebElement (session=\"e8d06f0082cf06e8142c33b8b1e26648\", element=\"dca1fd62-515b-403b-a1d6-79cfcfa7cb9f\")>\n",
      "<selenium.webdriver.remote.webelement.WebElement (session=\"e8d06f0082cf06e8142c33b8b1e26648\", element=\"09e15524-29f5-4a08-9cd8-124f09185543\")>\n",
      "<selenium.webdriver.remote.webelement.WebElement (session=\"e8d06f0082cf06e8142c33b8b1e26648\", element=\"5684c1d9-841c-4e88-b463-ce18cc66131a\")>\n",
      "<selenium.webdriver.remote.webelement.WebElement (session=\"e8d06f0082cf06e8142c33b8b1e26648\", element=\"53d6a811-4035-4e7f-98db-5078fea2f50a\")>\n",
      "<selenium.webdriver.remote.webelement.WebElement (session=\"e8d06f0082cf06e8142c33b8b1e26648\", element=\"c80a043b-9b57-4bf4-b10b-bf1ecb7929c6\")>\n",
      "<selenium.webdriver.remote.webelement.WebElement (session=\"e8d06f0082cf06e8142c33b8b1e26648\", element=\"7e2467b5-8e54-4f45-be96-fe330eb23e77\")>\n",
      "<selenium.webdriver.remote.webelement.WebElement (session=\"e8d06f0082cf06e8142c33b8b1e26648\", element=\"8d486e6e-5911-4cf0-af21-9ec4069c5fe3\")>\n",
      "<selenium.webdriver.remote.webelement.WebElement (session=\"e8d06f0082cf06e8142c33b8b1e26648\", element=\"a95ba6d3-026a-4df3-93b0-77807129a240\")>\n",
      "<selenium.webdriver.remote.webelement.WebElement (session=\"e8d06f0082cf06e8142c33b8b1e26648\", element=\"a52909b7-2b93-4457-83ff-c9b60f6823de\")>\n",
      "<selenium.webdriver.remote.webelement.WebElement (session=\"e8d06f0082cf06e8142c33b8b1e26648\", element=\"17b180ac-9394-4556-bc36-f6fc29f16ee0\")>\n",
      "<selenium.webdriver.remote.webelement.WebElement (session=\"e8d06f0082cf06e8142c33b8b1e26648\", element=\"9cac6ae3-294c-41e7-b550-c0ea56ab56e9\")>\n",
      "<selenium.webdriver.remote.webelement.WebElement (session=\"e8d06f0082cf06e8142c33b8b1e26648\", element=\"dd8860b3-3c49-4092-85b6-a3412fd65560\")>\n",
      "<selenium.webdriver.remote.webelement.WebElement (session=\"e8d06f0082cf06e8142c33b8b1e26648\", element=\"153e4b81-8d5d-4c9f-a4ab-e8660b081e78\")>\n",
      "<selenium.webdriver.remote.webelement.WebElement (session=\"e8d06f0082cf06e8142c33b8b1e26648\", element=\"9b5245dd-ec5c-4e96-a5ab-f12a5f80dcf1\")>\n",
      "<selenium.webdriver.remote.webelement.WebElement (session=\"e8d06f0082cf06e8142c33b8b1e26648\", element=\"4c5e731b-6f56-45ba-8f46-dd45aeef5549\")>\n",
      "<selenium.webdriver.remote.webelement.WebElement (session=\"e8d06f0082cf06e8142c33b8b1e26648\", element=\"539feb82-6fb9-4c51-a941-8cbf2d44bab7\")>\n",
      "<selenium.webdriver.remote.webelement.WebElement (session=\"e8d06f0082cf06e8142c33b8b1e26648\", element=\"07f95658-0ad6-4ba3-80a1-cf2c0f3b5b07\")>\n",
      "<selenium.webdriver.remote.webelement.WebElement (session=\"e8d06f0082cf06e8142c33b8b1e26648\", element=\"2b915671-b7e4-427f-b457-e433571176db\")>\n",
      "<selenium.webdriver.remote.webelement.WebElement (session=\"e8d06f0082cf06e8142c33b8b1e26648\", element=\"2210e495-86a0-45eb-bede-aefe3f3551ce\")>\n",
      "<selenium.webdriver.remote.webelement.WebElement (session=\"e8d06f0082cf06e8142c33b8b1e26648\", element=\"1357aa3f-9d5b-447d-925e-5a1618bce927\")>\n",
      "<selenium.webdriver.remote.webelement.WebElement (session=\"e8d06f0082cf06e8142c33b8b1e26648\", element=\"d54a8fb9-e0da-467d-b057-64ae852af63b\")>\n",
      "<selenium.webdriver.remote.webelement.WebElement (session=\"e8d06f0082cf06e8142c33b8b1e26648\", element=\"2531f5ac-a52d-42d6-9c0f-0b4a415648a6\")>\n",
      "<selenium.webdriver.remote.webelement.WebElement (session=\"e8d06f0082cf06e8142c33b8b1e26648\", element=\"5709b249-a929-418f-907d-80ae164a1c16\")>\n",
      "<selenium.webdriver.remote.webelement.WebElement (session=\"e8d06f0082cf06e8142c33b8b1e26648\", element=\"2b4ed42a-3f5b-4da0-9a7f-8184a4696dc6\")>\n",
      "<selenium.webdriver.remote.webelement.WebElement (session=\"e8d06f0082cf06e8142c33b8b1e26648\", element=\"a8d532e8-f7c8-42e3-8828-999d1ae98d2a\")>\n",
      "<selenium.webdriver.remote.webelement.WebElement (session=\"e8d06f0082cf06e8142c33b8b1e26648\", element=\"68bd2458-5439-4a68-a991-8cca6a73fd04\")>\n",
      "<selenium.webdriver.remote.webelement.WebElement (session=\"e8d06f0082cf06e8142c33b8b1e26648\", element=\"829564d2-5039-4de6-a8da-eda31a0782a4\")>\n",
      "<selenium.webdriver.remote.webelement.WebElement (session=\"e8d06f0082cf06e8142c33b8b1e26648\", element=\"ff58a8e4-726a-4cc5-b903-85a30cc55151\")>\n",
      "<selenium.webdriver.remote.webelement.WebElement (session=\"e8d06f0082cf06e8142c33b8b1e26648\", element=\"6fec79ca-989d-43b4-b55f-af47a8d1ad20\")>\n",
      "<selenium.webdriver.remote.webelement.WebElement (session=\"e8d06f0082cf06e8142c33b8b1e26648\", element=\"3b2e480d-a0ed-47d4-babc-3e92684051be\")>\n",
      "<selenium.webdriver.remote.webelement.WebElement (session=\"e8d06f0082cf06e8142c33b8b1e26648\", element=\"8cb4bc4f-b6e6-4e1c-9488-b988543c9bd7\")>\n",
      "<selenium.webdriver.remote.webelement.WebElement (session=\"e8d06f0082cf06e8142c33b8b1e26648\", element=\"62da373d-75e8-42bf-9992-64c84be5038e\")>\n",
      "<selenium.webdriver.remote.webelement.WebElement (session=\"e8d06f0082cf06e8142c33b8b1e26648\", element=\"b552caa3-3fec-4430-b480-d151c9f8cf8d\")>\n",
      "<selenium.webdriver.remote.webelement.WebElement (session=\"e8d06f0082cf06e8142c33b8b1e26648\", element=\"008f589b-bc56-4017-a7e9-97c7c52f8e76\")>\n",
      "<selenium.webdriver.remote.webelement.WebElement (session=\"e8d06f0082cf06e8142c33b8b1e26648\", element=\"fce5b958-6c40-4e67-ab6e-2e7197faf262\")>\n",
      "<selenium.webdriver.remote.webelement.WebElement (session=\"e8d06f0082cf06e8142c33b8b1e26648\", element=\"d900945c-210d-478b-8ba7-c68ffbb8e4d4\")>\n",
      "<selenium.webdriver.remote.webelement.WebElement (session=\"e8d06f0082cf06e8142c33b8b1e26648\", element=\"686ce233-f60a-4709-bd40-c643da01817d\")>\n",
      "<selenium.webdriver.remote.webelement.WebElement (session=\"e8d06f0082cf06e8142c33b8b1e26648\", element=\"177adee1-0683-439b-a37d-e38779474063\")>\n",
      "<selenium.webdriver.remote.webelement.WebElement (session=\"e8d06f0082cf06e8142c33b8b1e26648\", element=\"5abe04e1-e34f-4d56-bfb0-8dad4885de0e\")>\n",
      "<selenium.webdriver.remote.webelement.WebElement (session=\"e8d06f0082cf06e8142c33b8b1e26648\", element=\"11f6c773-e091-4efa-be0a-54fe404165ef\")>\n",
      "<selenium.webdriver.remote.webelement.WebElement (session=\"e8d06f0082cf06e8142c33b8b1e26648\", element=\"98b09e44-d2f5-4496-90da-00565aa0b9b7\")>\n",
      "<selenium.webdriver.remote.webelement.WebElement (session=\"e8d06f0082cf06e8142c33b8b1e26648\", element=\"7618fdcd-d1f7-4488-900c-f9d0ddf2a6b9\")>\n",
      "<selenium.webdriver.remote.webelement.WebElement (session=\"e8d06f0082cf06e8142c33b8b1e26648\", element=\"7a800ce5-9979-434d-8ddb-627c9acc719e\")>\n",
      "<selenium.webdriver.remote.webelement.WebElement (session=\"e8d06f0082cf06e8142c33b8b1e26648\", element=\"0af697ad-a0e7-451d-9bb7-8b0b35024fec\")>\n",
      "<selenium.webdriver.remote.webelement.WebElement (session=\"e8d06f0082cf06e8142c33b8b1e26648\", element=\"4f2b7293-4005-4a4d-a6c1-c227f3f1c743\")>\n",
      "<selenium.webdriver.remote.webelement.WebElement (session=\"e8d06f0082cf06e8142c33b8b1e26648\", element=\"d6f3ba02-948f-4cb7-828c-5e645ecf1baa\")>\n",
      "CPU times: user 1.44 s, sys: 93.2 ms, total: 1.53 s\n",
      "Wall time: 40.9 s\n"
     ]
    }
   ],
   "source": [
    "%%time\n",
    "\n",
    "\n",
    "# abrindo  o arquivo em modo append\n",
    "f = open(\"download_lotes_geosampa.txt\", \"w+\")\n",
    "\n",
    "# iterando sobre os links\n",
    "while True:\n",
    "    links_arquivos = browser.find_elements(By.CLASS_NAME, \"down\")\n",
    "\n",
    "    for link in links_arquivos:\n",
    "        print(link)\n",
    "        if 'SHP_LOTES' in link.get_attribute(\"href\"):\n",
    "            l = link\n",
    "#             print(l)\n",
    "            browser.execute_script(\"arguments[0].click();\", l)\n",
    "            browser.implicitly_wait(1)\n",
    "            b = browser.find_element(By.XPATH, \"//*[contains(text(), 'De acordo')]\")\n",
    "            browser.execute_script(\"arguments[0].click();\", b)\n",
    "            browser.implicitly_wait(1)\n",
    "#             f.write(link.get_attribute(\"href\")+'\\n')\n",
    "            #link.click()\n",
    "    if browser.find_element(By.XPATH, '//*[contains(@id, \"next__P_\")]').get_attribute('class').find('disabled') < 0:\n",
    "        n = browser.find_element(By.XPATH, '//*[contains(@id, \"next__P_\")]/span')\n",
    "        browser.execute_script(\"arguments[0].click();\", n)\n",
    "    else:\n",
    "        break\n",
    "\n",
    "# fechando o arquivo        \n",
    "f.close()"
   ]
  },
  {
   "cell_type": "code",
   "execution_count": null,
   "metadata": {},
   "outputs": [],
   "source": []
  }
 ],
 "metadata": {
  "kernelspec": {
   "display_name": "Python 3 (ipykernel)",
   "language": "python",
   "name": "python3"
  },
  "language_info": {
   "codemirror_mode": {
    "name": "ipython",
    "version": 3
   },
   "file_extension": ".py",
   "mimetype": "text/x-python",
   "name": "python",
   "nbconvert_exporter": "python",
   "pygments_lexer": "ipython3",
   "version": "3.10.9"
  }
 },
 "nbformat": 4,
 "nbformat_minor": 4
}
