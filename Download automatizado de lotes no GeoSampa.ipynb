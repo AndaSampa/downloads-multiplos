{
 "cells": [
  {
   "cell_type": "markdown",
   "metadata": {},
   "source": [
    "# Download automatizado de lotes\n",
    "\n",
    "## Introdução\n",
    "\n",
    "Os arquivos de lotes estão divididos por sub-prefeituras. Isso acontece em outros casos e é possível adaptar esse script para solucionar dificuldades similares.\n",
    "É comum precisarmos desse arquivo para fazer alguma análise e sempre acaba ficando a dificuldade de se obeter o conjunto total de feições.\n",
    "\n",
    "Portanto um robo automatizado que faça o download dos arquivos de maneira consistente pode ser uma ferramenta útil de trabalho para vc que precisa trabalhar com dados de toda a cidade.\n",
    "\n",
    "## Metodologia\n",
    "\n",
    "Para fazermos o download de forma automatizada vamos usar a linguagem de programação Python com o WebDriver Selenium"
   ]
  },
  {
   "cell_type": "markdown",
   "metadata": {},
   "source": [
    "### Abrindo so site do Geosampa\n",
    "\n",
    "O primeiro passo é abrir o site do GeoSampa em um WebDriver e simular um usuário fazendo o download de todos os arquivos de lote"
   ]
  },
  {
   "cell_type": "code",
   "execution_count": 1,
   "metadata": {},
   "outputs": [
    {
     "name": "stderr",
     "output_type": "stream",
     "text": [
      "/home/fernando/miniconda3/lib/python3.7/site-packages/ipykernel_launcher.py:11: DeprecationWarning: use options instead of chrome_options\n",
      "  # This is added back by InteractiveShellApp.init_path()\n"
     ]
    }
   ],
   "source": [
    "from selenium import webdriver\n",
    "\n",
    "options = webdriver.ChromeOptions()\n",
    "\n",
    "# Descomente a linha abaixo caso não precise visualizar o browser\n",
    "# options.add_argument('headless') \n",
    "\n",
    "options.add_argument('window-size=900x1080')\n",
    "\n",
    "# Inicializando o driver, que é uma instância de um browser\n",
    "driver = webdriver.Chrome(chrome_options=options)\n",
    "driver.get(\"http://geosampa.prefeitura.sp.gov.br/PaginasPublicas/_SBC.aspx\")"
   ]
  },
  {
   "cell_type": "markdown",
   "metadata": {},
   "source": [
    "### Clicando no botão de downloads"
   ]
  },
  {
   "cell_type": "code",
   "execution_count": 2,
   "metadata": {},
   "outputs": [],
   "source": [
    "#popup = driver.find_element_by_xpath('//*[@id=\"toPopup\"]/div[1]')\n",
    "#driver.execute_script(\"arguments[0].click();\", popup)\n",
    "\n",
    "#driver.execute_script('document.getElementById(\"backgroundPopup\").remove()')\n",
    "driver.implicitly_wait(1)\n",
    "\n",
    "botao_downloads = driver.find_element_by_xpath('//*[contains(@id, \"OpenLayers_Control_Panel\")]/div[7]')\n",
    "botao_downloads.click()"
   ]
  },
  {
   "cell_type": "code",
   "execution_count": 3,
   "metadata": {},
   "outputs": [],
   "source": [
    "#######\n",
    "\n",
    "driver.implicitly_wait(1)\n",
    "\n",
    "from selenium.webdriver.support.select import Select\n",
    "combo_download = Select(driver.find_element_by_id('cboCamadas'))"
   ]
  },
  {
   "cell_type": "code",
   "execution_count": 4,
   "metadata": {},
   "outputs": [
    {
     "data": {
      "text/plain": [
       "['',\n",
       " 'Cidade Solidária',\n",
       " 'Limites Administrativos',\n",
       " 'População',\n",
       " 'Equipamentos',\n",
       " 'Transporte',\n",
       " 'Sistema Viário',\n",
       " 'Habitação e Edificação',\n",
       " 'Proteção e Defesa Civil',\n",
       " 'Infraestrutura Urbana',\n",
       " 'Verde e Recursos Naturais',\n",
       " 'Meio Físico',\n",
       " 'Rural',\n",
       " 'Cadastro',\n",
       " 'Legislação Urbana',\n",
       " 'Patrimônio Cultural',\n",
       " 'Acessibilidade',\n",
       " 'Atlas Ambiental',\n",
       " 'Economia',\n",
       " 'Imagens Satelites',\n",
       " 'Mosaico de Ortofotos',\n",
       " 'Plantas e Mapas Históricos',\n",
       " 'Articulacao de Imagens',\n",
       " 'Atendimento ao Cidadão']"
      ]
     },
     "execution_count": 4,
     "metadata": {},
     "output_type": "execute_result"
    }
   ],
   "source": [
    "list(map(lambda x: x.text, combo_download.options))"
   ]
  },
  {
   "cell_type": "markdown",
   "metadata": {},
   "source": [
    "### Escolhendo a camada\n",
    "\n",
    "Agora precisamos escolher no menu DropDown a opção 'Cadastro' e então a opção 'Lotes'. Quando uma nova janela passa a ser apresentada para podermos escolher 'Shapefiles'"
   ]
  },
  {
   "cell_type": "code",
   "execution_count": 5,
   "metadata": {},
   "outputs": [],
   "source": [
    "driver.implicitly_wait(1)\n",
    "\n",
    "from selenium.webdriver.support.select import Select\n",
    "combo_download = Select(driver.find_element_by_id('cboCamadas'))\n",
    "combo_download.select_by_visible_text('Cadastro')\n",
    "\n",
    "driver.implicitly_wait(1)\n",
    "\n",
    "sub_combo_download = Select(driver.find_element_by_id('cboSubCamadas'))\n",
    "sub_combo_download.select_by_visible_text('Lotes')\n",
    "\n",
    "driver.implicitly_wait(1)\n",
    "\n",
    "link_ok = driver.find_element_by_xpath('//*[@id=\"1\"]/td[2]/a[3]')\n",
    "link_ok.click()\n",
    "\n",
    "driver.implicitly_wait(1)\n",
    "\n",
    "# link_shps = driver.find_element_by_xpath('//*[@id=\"1\"]/td[2]/a[2]')\n",
    "# link_shps.click()"
   ]
  },
  {
   "cell_type": "markdown",
   "metadata": {},
   "source": [
    "### Iterando sobre os arquivos disponíveis para download\n",
    "\n",
    "Nessa tela temos links para os downloads de todos os arquivos. Precisamos portanto iterar sobre eles e guardar esses links em um arquivo para postetiormente fazer o download de cada um deles."
   ]
  },
  {
   "cell_type": "code",
   "execution_count": null,
   "metadata": {},
   "outputs": [
    {
     "name": "stdout",
     "output_type": "stream",
     "text": [
      "<selenium.webdriver.remote.webelement.WebElement (session=\"db2d8c6ec48801d6a6fbac01ad7c07c8\", element=\"c02216f9-18d9-4a6a-93ae-42d0f1361d56\")>\n",
      "<selenium.webdriver.remote.webelement.WebElement (session=\"db2d8c6ec48801d6a6fbac01ad7c07c8\", element=\"d4c2c221-a5b3-4d44-bc7d-235559c3f4b8\")>\n",
      "<selenium.webdriver.remote.webelement.WebElement (session=\"db2d8c6ec48801d6a6fbac01ad7c07c8\", element=\"03ceca93-d01a-4d59-b102-80d7609597e7\")>\n",
      "<selenium.webdriver.remote.webelement.WebElement (session=\"db2d8c6ec48801d6a6fbac01ad7c07c8\", element=\"d10d50d5-deee-483c-8013-3b123971933d\")>\n",
      "<selenium.webdriver.remote.webelement.WebElement (session=\"db2d8c6ec48801d6a6fbac01ad7c07c8\", element=\"79532d78-8e94-4525-a76e-cbf63e945e54\")>\n",
      "<selenium.webdriver.remote.webelement.WebElement (session=\"db2d8c6ec48801d6a6fbac01ad7c07c8\", element=\"7acb9c61-4ba3-4401-901d-def24dfdfbb4\")>\n",
      "<selenium.webdriver.remote.webelement.WebElement (session=\"db2d8c6ec48801d6a6fbac01ad7c07c8\", element=\"ab2afb4e-ebe2-4f11-b77e-88984234ca78\")>\n",
      "<selenium.webdriver.remote.webelement.WebElement (session=\"db2d8c6ec48801d6a6fbac01ad7c07c8\", element=\"4d920101-2291-40c8-9ea6-304d843cb9d1\")>\n",
      "<selenium.webdriver.remote.webelement.WebElement (session=\"db2d8c6ec48801d6a6fbac01ad7c07c8\", element=\"fd7455a5-40a9-43c1-852a-c6a205f8d835\")>\n"
     ]
    }
   ],
   "source": [
    "%%time\n",
    "\n",
    "\n",
    "# abrindo  o arquivo em modo append\n",
    "f = open(\"download_lotes_geosampa.txt\", \"w+\")\n",
    "\n",
    "# iterando sobre os links\n",
    "while True:\n",
    "    links_arquivos = driver.find_elements_by_class_name(\"down\")\n",
    "\n",
    "    for link in links_arquivos:\n",
    "        print(link)\n",
    "        if 'SHP_LOTES' in link.get_attribute(\"href\"):\n",
    "            l = link\n",
    "#             print(l)\n",
    "            driver.execute_script(\"arguments[0].click();\", l)\n",
    "            driver.implicitly_wait(1)\n",
    "            b = driver.find_element_by_xpath(\"//*[contains(text(), 'De acordo')]\")\n",
    "            driver.execute_script(\"arguments[0].click();\", b)\n",
    "            driver.implicitly_wait(1)\n",
    "#             f.write(link.get_attribute(\"href\")+'\\n')\n",
    "            #link.click()\n",
    "    if driver.find_element_by_xpath('//*[contains(@id, \"next__P_\")]').get_attribute('class').find('disabled') < 0:\n",
    "        n = driver.find_element_by_xpath('//*[contains(@id, \"next__P_\")]/span')\n",
    "        driver.execute_script(\"arguments[0].click();\", n)\n",
    "    else:\n",
    "        break\n",
    "\n",
    "# fechando o arquivo        \n",
    "f.close()"
   ]
  }
 ],
 "metadata": {
  "kernelspec": {
   "display_name": "Python 3",
   "language": "python",
   "name": "python3"
  },
  "language_info": {
   "codemirror_mode": {
    "name": "ipython",
    "version": 3
   },
   "file_extension": ".py",
   "mimetype": "text/x-python",
   "name": "python",
   "nbconvert_exporter": "python",
   "pygments_lexer": "ipython3",
   "version": "3.7.4"
  }
 },
 "nbformat": 4,
 "nbformat_minor": 4
}
