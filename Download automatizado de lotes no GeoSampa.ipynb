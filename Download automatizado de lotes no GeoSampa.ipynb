{
 "cells": [
  {
   "attachments": {},
   "cell_type": "markdown",
   "metadata": {},
   "source": [
    "# Download automatizado de lotes\n",
    "\n",
    "## Introdução\n",
    "\n",
    "Os arquivos de lotes estão divididos por sub-prefeituras. Isso acontece em outros casos e é possível adaptar esse script para solucionar dificuldades similares.\n",
    "É comum precisarmos desse arquivo para fazer alguma análise e sempre acaba ficando a dificuldade de se obeter o conjunto total de feições.\n",
    "\n",
    "Portanto um robo automatizado que faça o download dos arquivos de maneira consistente pode ser uma ferramenta útil de trabalho para vc que precisa trabalhar com dados de toda a cidade.\n",
    "\n",
    "## Metodologia\n",
    "\n",
    "Para fazermos o download de forma automatizada vamos usar a linguagem de programação Python com o WebDriver Selenium\n",
    "\n",
    "## Resultados\n",
    "\n",
    "Os resultados do último download realizado em 07/03/2023 está disponível para download no link: https://www.kaggle.com/datasets/andasampa/geosampa-no-kaggle\n"
   ]
  },
  {
   "cell_type": "markdown",
   "metadata": {},
   "source": [
    "### Abrindo so site do Geosampa\n",
    "\n",
    "O primeiro passo é abrir o site do GeoSampa em um WebDriver e simular um usuário fazendo o download de todos os arquivos de lote"
   ]
  },
  {
   "cell_type": "code",
   "execution_count": 1,
   "metadata": {},
   "outputs": [
    {
     "name": "stderr",
     "output_type": "stream",
     "text": [
      "/var/folders/4v/rx_d3gzj4991_pw5_skhl0980000gn/T/ipykernel_27852/3825847221.py:8: DeprecationWarning: executable_path has been deprecated, please pass in a Service object\n",
      "  browser = webdriver.Firefox(executable_path=r'/Users/fernandogomes/dev/downloads-multiplos/geckodriver')\n"
     ]
    }
   ],
   "source": [
    "from webdriver_manager.chrome import ChromeDriverManager \n",
    "from selenium import webdriver \n",
    "from selenium.webdriver.chrome.service import Service as ChromeService\n",
    "from selenium.webdriver.common.by import By\n",
    "\n",
    "\n",
    "# browser = webdriver.Chrome(ChromeDriverManager().install()) \n",
    "browser = webdriver.Firefox(executable_path=r'/Users/fernandogomes/dev/downloads-multiplos/geckodriver') \n",
    "\n",
    "browser.implicitly_wait(5)\n"
   ]
  },
  {
   "cell_type": "code",
   "execution_count": 2,
   "metadata": {},
   "outputs": [],
   "source": [
    "browser.get(\"http://geosampa.prefeitura.sp.gov.br/PaginasPublicas/_SBC.aspx\")"
   ]
  },
  {
   "cell_type": "markdown",
   "metadata": {},
   "source": [
    "### Clicando no botão de downloads"
   ]
  },
  {
   "cell_type": "code",
   "execution_count": 5,
   "metadata": {},
   "outputs": [],
   "source": [
    "#popup = driver.find_element_by_xpath('//*[@id=\"toPopup\"]/div[1]')\n",
    "#driver.execute_script(\"arguments[0].click();\", popup)\n",
    "\n",
    "#driver.execute_script('document.getElementById(\"backgroundPopup\").remove()')\n",
    "browser.implicitly_wait(1)\n",
    "\n",
    "botao_downloads = browser.find_element(By.XPATH, '//*[contains(@id, \"OpenLayers_Control_Panel\")]/div[7]')\n",
    "botao_downloads.click()\n",
    "\n"
   ]
  },
  {
   "cell_type": "code",
   "execution_count": 6,
   "metadata": {},
   "outputs": [],
   "source": [
    "#######\n",
    "\n",
    "browser.implicitly_wait(1)\n",
    "\n",
    "from selenium.webdriver.support.select import Select\n",
    "combo_download = Select(browser.find_element(By.ID, 'cboCamadas'))"
   ]
  },
  {
   "cell_type": "code",
   "execution_count": 7,
   "metadata": {},
   "outputs": [
    {
     "data": {
      "text/plain": [
       "['',\n",
       " 'Limites Administrativos',\n",
       " 'População',\n",
       " 'Equipamentos',\n",
       " 'Transporte',\n",
       " 'Sistema Viário',\n",
       " 'Habitação e Edificação',\n",
       " 'Proteção e Defesa Civil',\n",
       " 'Infraestrutura Urbana',\n",
       " 'Verde e Recursos Naturais',\n",
       " 'Meio Físico',\n",
       " 'Rural',\n",
       " 'Cadastro',\n",
       " 'Legislação Urbana',\n",
       " 'Patrimônio Cultural',\n",
       " 'Acessibilidade',\n",
       " 'Atlas Ambiental',\n",
       " 'Economia',\n",
       " 'Imagens Satelites',\n",
       " 'Mosaico de Ortofotos',\n",
       " 'Plantas e Mapas Históricos',\n",
       " 'Articulacao de Imagens',\n",
       " 'Atendimento ao Cidadão',\n",
       " 'Licenciamento Ambiental',\n",
       " 'Limpeza Urbana',\n",
       " 'Licenciamento',\n",
       " 'Imageamento',\n",
       " 'Uso_do_Solo']"
      ]
     },
     "execution_count": 7,
     "metadata": {},
     "output_type": "execute_result"
    }
   ],
   "source": [
    "list(map(lambda x: x.text, combo_download.options))"
   ]
  },
  {
   "cell_type": "markdown",
   "metadata": {},
   "source": [
    "### Escolhendo a camada\n",
    "\n",
    "Agora precisamos escolher no menu DropDown a opção 'Cadastro' e então a opção 'Lotes'. Quando uma nova janela passa a ser apresentada para podermos escolher 'Shapefiles'"
   ]
  },
  {
   "cell_type": "code",
   "execution_count": 8,
   "metadata": {},
   "outputs": [],
   "source": [
    "browser.implicitly_wait(5)\n",
    "\n",
    "from selenium.webdriver.support.select import Select\n",
    "combo_download = Select(browser.find_element(By.ID, 'cboCamadas'))\n",
    "combo_download.select_by_visible_text('Cadastro')\n",
    "\n",
    "browser.implicitly_wait(8)\n",
    "\n",
    "sub_combo_download = Select(browser.find_element(By.ID, 'cboSubCamadas'))\n",
    "sub_combo_download.select_by_visible_text('Lotes')\n",
    "\n",
    "browser.implicitly_wait(8)\n",
    "\n",
    "link_ok = browser.find_element(By.XPATH, '//*[@id=\"1\"]/td[2]/a[3]')\n",
    "link_ok.click()\n",
    "\n",
    "browser.implicitly_wait(8)\n",
    "\n",
    "# link_shps = driver.find_element_by_xpath('//*[@id=\"1\"]/td[2]/a[2]')\n",
    "# link_shps.click()"
   ]
  },
  {
   "cell_type": "markdown",
   "metadata": {},
   "source": [
    "### Iterando sobre os arquivos disponíveis para download\n",
    "\n",
    "Nessa tela temos links para os downloads de todos os arquivos. Precisamos portanto iterar sobre eles e guardar esses links em um arquivo para postetiormente fazer o download de cada um deles."
   ]
  },
  {
   "cell_type": "code",
   "execution_count": 9,
   "metadata": {},
   "outputs": [
    {
     "name": "stdout",
     "output_type": "stream",
     "text": [
      "<selenium.webdriver.remote.webelement.WebElement (session=\"4629af46-3b65-47e3-b5cc-5e9686fb6b71\", element=\"5e9b0480-904f-4063-8319-1479de52a86c\")>\n",
      "<selenium.webdriver.remote.webelement.WebElement (session=\"4629af46-3b65-47e3-b5cc-5e9686fb6b71\", element=\"501edfcd-d112-4b54-aff7-3e1049f83a6a\")>\n",
      "<selenium.webdriver.remote.webelement.WebElement (session=\"4629af46-3b65-47e3-b5cc-5e9686fb6b71\", element=\"1af9bd1a-6694-4ba9-90f9-810db61c4945\")>\n",
      "<selenium.webdriver.remote.webelement.WebElement (session=\"4629af46-3b65-47e3-b5cc-5e9686fb6b71\", element=\"79fc4052-2cb7-4295-8710-55ab16b36306\")>\n",
      "<selenium.webdriver.remote.webelement.WebElement (session=\"4629af46-3b65-47e3-b5cc-5e9686fb6b71\", element=\"d1c797fb-dd2f-4f1f-8755-4ecc2158bf7c\")>\n",
      "<selenium.webdriver.remote.webelement.WebElement (session=\"4629af46-3b65-47e3-b5cc-5e9686fb6b71\", element=\"d49745fb-b5c8-4a97-8f1b-1d3bfede79b8\")>\n",
      "<selenium.webdriver.remote.webelement.WebElement (session=\"4629af46-3b65-47e3-b5cc-5e9686fb6b71\", element=\"bf1fb9bb-6ade-42c8-913e-48f4b54dc840\")>\n",
      "<selenium.webdriver.remote.webelement.WebElement (session=\"4629af46-3b65-47e3-b5cc-5e9686fb6b71\", element=\"2d2130ba-baaf-49fb-b5b1-e40b4b374875\")>\n",
      "<selenium.webdriver.remote.webelement.WebElement (session=\"4629af46-3b65-47e3-b5cc-5e9686fb6b71\", element=\"b7c526d8-bd01-4097-b41c-d4112531b2fe\")>\n",
      "<selenium.webdriver.remote.webelement.WebElement (session=\"4629af46-3b65-47e3-b5cc-5e9686fb6b71\", element=\"fc89fe6b-ac5e-4055-9cf4-fc3f914c0b85\")>\n",
      "<selenium.webdriver.remote.webelement.WebElement (session=\"4629af46-3b65-47e3-b5cc-5e9686fb6b71\", element=\"c7f36968-53c3-49a8-bd9f-175c9bfda91a\")>\n",
      "<selenium.webdriver.remote.webelement.WebElement (session=\"4629af46-3b65-47e3-b5cc-5e9686fb6b71\", element=\"134a90a7-3868-411c-8c73-f15765f64b90\")>\n",
      "<selenium.webdriver.remote.webelement.WebElement (session=\"4629af46-3b65-47e3-b5cc-5e9686fb6b71\", element=\"a57fd285-3bd0-44a3-8581-ce3d8b0aed8d\")>\n",
      "<selenium.webdriver.remote.webelement.WebElement (session=\"4629af46-3b65-47e3-b5cc-5e9686fb6b71\", element=\"2e504cf1-f1d6-4686-9bf3-ea4732168b2d\")>\n",
      "<selenium.webdriver.remote.webelement.WebElement (session=\"4629af46-3b65-47e3-b5cc-5e9686fb6b71\", element=\"fd197aad-8538-42de-9140-f73ed00fa2a4\")>\n",
      "<selenium.webdriver.remote.webelement.WebElement (session=\"4629af46-3b65-47e3-b5cc-5e9686fb6b71\", element=\"7751720a-df57-4294-900c-ed61f4f91d77\")>\n",
      "<selenium.webdriver.remote.webelement.WebElement (session=\"4629af46-3b65-47e3-b5cc-5e9686fb6b71\", element=\"2eb74ad4-b87e-45b5-b375-33b346803019\")>\n",
      "<selenium.webdriver.remote.webelement.WebElement (session=\"4629af46-3b65-47e3-b5cc-5e9686fb6b71\", element=\"3ecdfe81-7580-4b33-ba7d-75d1f3c803c1\")>\n",
      "<selenium.webdriver.remote.webelement.WebElement (session=\"4629af46-3b65-47e3-b5cc-5e9686fb6b71\", element=\"d40a584b-aaf4-43ed-8aa6-431480fba965\")>\n",
      "<selenium.webdriver.remote.webelement.WebElement (session=\"4629af46-3b65-47e3-b5cc-5e9686fb6b71\", element=\"f30f7580-a620-4aea-ab22-0f57e65143a4\")>\n",
      "<selenium.webdriver.remote.webelement.WebElement (session=\"4629af46-3b65-47e3-b5cc-5e9686fb6b71\", element=\"a2064298-e1c5-4fff-90b5-d49adf7e8713\")>\n",
      "<selenium.webdriver.remote.webelement.WebElement (session=\"4629af46-3b65-47e3-b5cc-5e9686fb6b71\", element=\"c01dba10-b7c7-4842-b769-5ed44202d539\")>\n",
      "<selenium.webdriver.remote.webelement.WebElement (session=\"4629af46-3b65-47e3-b5cc-5e9686fb6b71\", element=\"f8d7ba8f-40e5-4a85-b434-6b93fb6e2a9b\")>\n",
      "<selenium.webdriver.remote.webelement.WebElement (session=\"4629af46-3b65-47e3-b5cc-5e9686fb6b71\", element=\"ffc97381-cba9-4793-b295-097244d650d0\")>\n",
      "<selenium.webdriver.remote.webelement.WebElement (session=\"4629af46-3b65-47e3-b5cc-5e9686fb6b71\", element=\"9ed14c8c-e2db-463b-af24-fb0ea130c463\")>\n",
      "<selenium.webdriver.remote.webelement.WebElement (session=\"4629af46-3b65-47e3-b5cc-5e9686fb6b71\", element=\"b5dc1c8c-d1b7-416c-966f-1af82c7d9e6e\")>\n",
      "<selenium.webdriver.remote.webelement.WebElement (session=\"4629af46-3b65-47e3-b5cc-5e9686fb6b71\", element=\"ee1cd015-69a3-463a-a709-7ebf688c1bd0\")>\n",
      "<selenium.webdriver.remote.webelement.WebElement (session=\"4629af46-3b65-47e3-b5cc-5e9686fb6b71\", element=\"e0d7c2d1-0561-4e77-8142-662d879972bb\")>\n",
      "<selenium.webdriver.remote.webelement.WebElement (session=\"4629af46-3b65-47e3-b5cc-5e9686fb6b71\", element=\"d10aadc0-910b-4f5f-ba0c-b15fc849dc58\")>\n",
      "<selenium.webdriver.remote.webelement.WebElement (session=\"4629af46-3b65-47e3-b5cc-5e9686fb6b71\", element=\"30eb9406-bf6a-40b5-b103-da56cc5a63c8\")>\n",
      "<selenium.webdriver.remote.webelement.WebElement (session=\"4629af46-3b65-47e3-b5cc-5e9686fb6b71\", element=\"2499a48e-1314-44dd-92a5-473b99dda6a7\")>\n",
      "<selenium.webdriver.remote.webelement.WebElement (session=\"4629af46-3b65-47e3-b5cc-5e9686fb6b71\", element=\"5d8d6ffc-dae4-44da-ab93-879c92e7145b\")>\n",
      "<selenium.webdriver.remote.webelement.WebElement (session=\"4629af46-3b65-47e3-b5cc-5e9686fb6b71\", element=\"a14bfa98-faa1-4d44-a439-7660ce32d492\")>\n",
      "<selenium.webdriver.remote.webelement.WebElement (session=\"4629af46-3b65-47e3-b5cc-5e9686fb6b71\", element=\"2e74134a-7428-402d-ba7d-4a855d3c4f64\")>\n",
      "<selenium.webdriver.remote.webelement.WebElement (session=\"4629af46-3b65-47e3-b5cc-5e9686fb6b71\", element=\"8e92a79f-55e2-4067-b094-9c401912f392\")>\n",
      "<selenium.webdriver.remote.webelement.WebElement (session=\"4629af46-3b65-47e3-b5cc-5e9686fb6b71\", element=\"8b2905e7-5e20-4c42-ac7a-1da0d12a898c\")>\n",
      "<selenium.webdriver.remote.webelement.WebElement (session=\"4629af46-3b65-47e3-b5cc-5e9686fb6b71\", element=\"3fdf4b8f-5333-4882-8a76-b81b3c24af47\")>\n",
      "<selenium.webdriver.remote.webelement.WebElement (session=\"4629af46-3b65-47e3-b5cc-5e9686fb6b71\", element=\"88f01af0-d17a-4d53-9131-3605c39922be\")>\n",
      "<selenium.webdriver.remote.webelement.WebElement (session=\"4629af46-3b65-47e3-b5cc-5e9686fb6b71\", element=\"2297b0c7-0409-460f-98a0-772db68be9d4\")>\n",
      "<selenium.webdriver.remote.webelement.WebElement (session=\"4629af46-3b65-47e3-b5cc-5e9686fb6b71\", element=\"4cf5b5ec-94eb-426d-b5a3-30417ef82d95\")>\n",
      "<selenium.webdriver.remote.webelement.WebElement (session=\"4629af46-3b65-47e3-b5cc-5e9686fb6b71\", element=\"93104798-eed0-4557-9da8-a7b49ab063f8\")>\n",
      "<selenium.webdriver.remote.webelement.WebElement (session=\"4629af46-3b65-47e3-b5cc-5e9686fb6b71\", element=\"a1a31c32-d56f-4463-8cab-d1d58bc33baa\")>\n",
      "<selenium.webdriver.remote.webelement.WebElement (session=\"4629af46-3b65-47e3-b5cc-5e9686fb6b71\", element=\"6ae28486-1ec6-466d-89eb-b46bd603be89\")>\n",
      "<selenium.webdriver.remote.webelement.WebElement (session=\"4629af46-3b65-47e3-b5cc-5e9686fb6b71\", element=\"35ab3d99-7be6-408e-a73e-2867e1a8ec9f\")>\n",
      "<selenium.webdriver.remote.webelement.WebElement (session=\"4629af46-3b65-47e3-b5cc-5e9686fb6b71\", element=\"653a6f96-e262-4c84-8dc1-e3f1968afed8\")>\n",
      "<selenium.webdriver.remote.webelement.WebElement (session=\"4629af46-3b65-47e3-b5cc-5e9686fb6b71\", element=\"d5215ea1-8a9c-4317-8637-f3a71427b081\")>\n",
      "<selenium.webdriver.remote.webelement.WebElement (session=\"4629af46-3b65-47e3-b5cc-5e9686fb6b71\", element=\"1b6b47fa-8ac2-4f62-a291-7117fd2a62a8\")>\n",
      "<selenium.webdriver.remote.webelement.WebElement (session=\"4629af46-3b65-47e3-b5cc-5e9686fb6b71\", element=\"8c6a5e2d-58d0-4dd9-9404-c29b59bf1ed6\")>\n",
      "<selenium.webdriver.remote.webelement.WebElement (session=\"4629af46-3b65-47e3-b5cc-5e9686fb6b71\", element=\"0bf255f8-1f42-4677-995b-1ee418f6b6fc\")>\n",
      "<selenium.webdriver.remote.webelement.WebElement (session=\"4629af46-3b65-47e3-b5cc-5e9686fb6b71\", element=\"c08a2c4e-4947-4ec2-bc41-a0d1d09a3392\")>\n",
      "<selenium.webdriver.remote.webelement.WebElement (session=\"4629af46-3b65-47e3-b5cc-5e9686fb6b71\", element=\"4ed98805-ee1e-405d-b9e0-31765ee46a2c\")>\n",
      "<selenium.webdriver.remote.webelement.WebElement (session=\"4629af46-3b65-47e3-b5cc-5e9686fb6b71\", element=\"ba712d13-d869-4f98-a487-83274302f017\")>\n",
      "<selenium.webdriver.remote.webelement.WebElement (session=\"4629af46-3b65-47e3-b5cc-5e9686fb6b71\", element=\"99079c15-07b3-405e-b9a6-0d17ce17f7d7\")>\n",
      "<selenium.webdriver.remote.webelement.WebElement (session=\"4629af46-3b65-47e3-b5cc-5e9686fb6b71\", element=\"5544b971-69d0-43b6-9a03-405354e75943\")>\n",
      "<selenium.webdriver.remote.webelement.WebElement (session=\"4629af46-3b65-47e3-b5cc-5e9686fb6b71\", element=\"3aa4d496-3208-467d-8952-a7aec6a22491\")>\n",
      "<selenium.webdriver.remote.webelement.WebElement (session=\"4629af46-3b65-47e3-b5cc-5e9686fb6b71\", element=\"a43e5f97-fcb4-4147-b7a2-26122c01ea7c\")>\n",
      "<selenium.webdriver.remote.webelement.WebElement (session=\"4629af46-3b65-47e3-b5cc-5e9686fb6b71\", element=\"3288058f-a948-43bc-871a-e96b000ee1a5\")>\n",
      "<selenium.webdriver.remote.webelement.WebElement (session=\"4629af46-3b65-47e3-b5cc-5e9686fb6b71\", element=\"2b8e8787-c8e8-4b70-aa01-c4acbff654da\")>\n",
      "<selenium.webdriver.remote.webelement.WebElement (session=\"4629af46-3b65-47e3-b5cc-5e9686fb6b71\", element=\"a6fe9e63-6df3-40df-8739-1247a8e0a9d5\")>\n",
      "<selenium.webdriver.remote.webelement.WebElement (session=\"4629af46-3b65-47e3-b5cc-5e9686fb6b71\", element=\"80913bf0-6eea-4d2a-9dcf-a7722eec58df\")>\n",
      "<selenium.webdriver.remote.webelement.WebElement (session=\"4629af46-3b65-47e3-b5cc-5e9686fb6b71\", element=\"e1ff405c-b842-434a-97bf-6c0c440f6ff6\")>\n",
      "<selenium.webdriver.remote.webelement.WebElement (session=\"4629af46-3b65-47e3-b5cc-5e9686fb6b71\", element=\"b90e13bb-ff93-407e-bd69-80e00ad98a30\")>\n",
      "<selenium.webdriver.remote.webelement.WebElement (session=\"4629af46-3b65-47e3-b5cc-5e9686fb6b71\", element=\"808fb0ea-c575-419f-a28d-947a548bf872\")>\n",
      "<selenium.webdriver.remote.webelement.WebElement (session=\"4629af46-3b65-47e3-b5cc-5e9686fb6b71\", element=\"9e58b297-19f7-422b-b5ef-256fb323b818\")>\n",
      "<selenium.webdriver.remote.webelement.WebElement (session=\"4629af46-3b65-47e3-b5cc-5e9686fb6b71\", element=\"03f7adaf-1984-4b0b-a68c-a654b1e160c5\")>\n",
      "<selenium.webdriver.remote.webelement.WebElement (session=\"4629af46-3b65-47e3-b5cc-5e9686fb6b71\", element=\"158ee0c0-299d-4832-878b-394804a37f5f\")>\n",
      "<selenium.webdriver.remote.webelement.WebElement (session=\"4629af46-3b65-47e3-b5cc-5e9686fb6b71\", element=\"30be4782-c39a-4bd2-b631-b95d2a45ce04\")>\n",
      "<selenium.webdriver.remote.webelement.WebElement (session=\"4629af46-3b65-47e3-b5cc-5e9686fb6b71\", element=\"7c26ed85-b09c-45e7-b029-db64d4e3e589\")>\n",
      "<selenium.webdriver.remote.webelement.WebElement (session=\"4629af46-3b65-47e3-b5cc-5e9686fb6b71\", element=\"71bf1e00-a891-42eb-b77a-500ae24a1e1a\")>\n",
      "<selenium.webdriver.remote.webelement.WebElement (session=\"4629af46-3b65-47e3-b5cc-5e9686fb6b71\", element=\"278e8d43-7630-49c9-b7de-b3b1ff4138c7\")>\n",
      "<selenium.webdriver.remote.webelement.WebElement (session=\"4629af46-3b65-47e3-b5cc-5e9686fb6b71\", element=\"39c590fc-1fda-4717-9fd1-aad228f4f7b1\")>\n",
      "<selenium.webdriver.remote.webelement.WebElement (session=\"4629af46-3b65-47e3-b5cc-5e9686fb6b71\", element=\"816da42e-1c3c-4865-94cf-5ae385fe7d45\")>\n",
      "<selenium.webdriver.remote.webelement.WebElement (session=\"4629af46-3b65-47e3-b5cc-5e9686fb6b71\", element=\"e48eed3c-0ea8-4dc0-a2cf-1c28e3de8ada\")>\n",
      "<selenium.webdriver.remote.webelement.WebElement (session=\"4629af46-3b65-47e3-b5cc-5e9686fb6b71\", element=\"3466c6be-9115-4b66-964d-c44f9249578e\")>\n",
      "<selenium.webdriver.remote.webelement.WebElement (session=\"4629af46-3b65-47e3-b5cc-5e9686fb6b71\", element=\"00e824da-e6d9-4aa9-8574-a5ddd9b7a953\")>\n",
      "<selenium.webdriver.remote.webelement.WebElement (session=\"4629af46-3b65-47e3-b5cc-5e9686fb6b71\", element=\"9c6bfc6a-aaef-4ec3-b9a1-116e36573cdf\")>\n",
      "<selenium.webdriver.remote.webelement.WebElement (session=\"4629af46-3b65-47e3-b5cc-5e9686fb6b71\", element=\"f5e88a36-5881-406c-99f0-a549e8b77dd7\")>\n",
      "<selenium.webdriver.remote.webelement.WebElement (session=\"4629af46-3b65-47e3-b5cc-5e9686fb6b71\", element=\"8a325804-9a06-4408-b96d-d4da28f23dbf\")>\n",
      "<selenium.webdriver.remote.webelement.WebElement (session=\"4629af46-3b65-47e3-b5cc-5e9686fb6b71\", element=\"ca60bca4-11c8-4c13-b0ea-3a2fa09657d4\")>\n",
      "<selenium.webdriver.remote.webelement.WebElement (session=\"4629af46-3b65-47e3-b5cc-5e9686fb6b71\", element=\"66c683a1-b5c3-4a2c-b09a-c763efca590f\")>\n",
      "<selenium.webdriver.remote.webelement.WebElement (session=\"4629af46-3b65-47e3-b5cc-5e9686fb6b71\", element=\"09b43a9c-34d4-4123-9170-983543366b8e\")>\n",
      "<selenium.webdriver.remote.webelement.WebElement (session=\"4629af46-3b65-47e3-b5cc-5e9686fb6b71\", element=\"c878a676-99ae-41bf-8538-943db8447807\")>\n",
      "<selenium.webdriver.remote.webelement.WebElement (session=\"4629af46-3b65-47e3-b5cc-5e9686fb6b71\", element=\"7e07ce48-27f5-46e9-bf38-3c3aed211a5e\")>\n",
      "<selenium.webdriver.remote.webelement.WebElement (session=\"4629af46-3b65-47e3-b5cc-5e9686fb6b71\", element=\"43491274-f7a2-47d1-83f1-44ca9a7e5635\")>\n",
      "<selenium.webdriver.remote.webelement.WebElement (session=\"4629af46-3b65-47e3-b5cc-5e9686fb6b71\", element=\"b8b5d690-7cd4-447a-8890-b6ab2f2a64b0\")>\n",
      "<selenium.webdriver.remote.webelement.WebElement (session=\"4629af46-3b65-47e3-b5cc-5e9686fb6b71\", element=\"ddf39417-4cda-4d38-b95a-19e88c4dbe25\")>\n",
      "<selenium.webdriver.remote.webelement.WebElement (session=\"4629af46-3b65-47e3-b5cc-5e9686fb6b71\", element=\"3bac49c0-5a23-4429-ac0d-9ac71f1c6baf\")>\n",
      "<selenium.webdriver.remote.webelement.WebElement (session=\"4629af46-3b65-47e3-b5cc-5e9686fb6b71\", element=\"16aa50f2-0fd9-40d4-bb9e-115370b7f59c\")>\n",
      "<selenium.webdriver.remote.webelement.WebElement (session=\"4629af46-3b65-47e3-b5cc-5e9686fb6b71\", element=\"d7a4a52c-2599-45d7-86ca-6e3b3d9bf63c\")>\n",
      "<selenium.webdriver.remote.webelement.WebElement (session=\"4629af46-3b65-47e3-b5cc-5e9686fb6b71\", element=\"544c88f9-3f33-44d7-8d1e-eac3dbc6c415\")>\n",
      "<selenium.webdriver.remote.webelement.WebElement (session=\"4629af46-3b65-47e3-b5cc-5e9686fb6b71\", element=\"2df85ef9-3fbb-4071-ad9b-63befd1c35cb\")>\n",
      "<selenium.webdriver.remote.webelement.WebElement (session=\"4629af46-3b65-47e3-b5cc-5e9686fb6b71\", element=\"0b2c6de5-5563-4cf5-882d-feb708259879\")>\n",
      "<selenium.webdriver.remote.webelement.WebElement (session=\"4629af46-3b65-47e3-b5cc-5e9686fb6b71\", element=\"d2fc9068-fe15-4b16-8ae3-15bf85e5a3e8\")>\n",
      "<selenium.webdriver.remote.webelement.WebElement (session=\"4629af46-3b65-47e3-b5cc-5e9686fb6b71\", element=\"72944e51-ab37-4e77-b8d2-b034765117c7\")>\n",
      "<selenium.webdriver.remote.webelement.WebElement (session=\"4629af46-3b65-47e3-b5cc-5e9686fb6b71\", element=\"83c2b91d-9379-49db-b335-713368ab19b8\")>\n",
      "<selenium.webdriver.remote.webelement.WebElement (session=\"4629af46-3b65-47e3-b5cc-5e9686fb6b71\", element=\"379dfefa-516c-47e3-b469-b76c5c644dd5\")>\n",
      "CPU times: user 770 ms, sys: 83.4 ms, total: 854 ms\n",
      "Wall time: 32min 4s\n"
     ]
    }
   ],
   "source": [
    "%%time\n",
    "import time\n",
    "\n",
    "# abrindo  o arquivo em modo append\n",
    "f = open(\"download_lotes_geosampa.txt\", \"w+\")\n",
    "\n",
    "# iterando sobre os links\n",
    "while True:\n",
    "    links_arquivos = browser.find_elements(By.CLASS_NAME, \"down\")\n",
    "\n",
    "    for link in links_arquivos:\n",
    "        if 'SHP_LOTES' in link.get_attribute(\"href\"):\n",
    "            print(link)\n",
    "            l = link\n",
    "#             print(l)\n",
    "            browser.execute_script(\"arguments[0].click();\", l)\n",
    "            browser.implicitly_wait(8)\n",
    "            b = browser.find_element(By.XPATH, \"//*[contains(text(), 'De acordo')]\")\n",
    "            browser.implicitly_wait(8)\n",
    "            browser.execute_script(\"arguments[0].click();\", b)\n",
    "            browser.implicitly_wait(8)\n",
    "#             f.write(link.get_attribute(\"href\")+'\\n')\n",
    "            # link.click()\n",
    "            # break\n",
    "            time.sleep(20)\n",
    "        \n",
    "    if browser.find_element(By.XPATH, '//*[contains(@id, \"next__P_\")]').get_attribute('class').find('disabled') < 0:\n",
    "        n = browser.find_element(By.XPATH, '//*[contains(@id, \"next__P_\")]/span')\n",
    "        browser.execute_script(\"arguments[0].click();\", n)\n",
    "    else:\n",
    "        break\n",
    "\n",
    "# fechando o arquivo        \n",
    "f.close()"
   ]
  },
  {
   "cell_type": "code",
   "execution_count": null,
   "metadata": {},
   "outputs": [],
   "source": []
  }
 ],
 "metadata": {
  "kernelspec": {
   "display_name": "Python 3 (ipykernel)",
   "language": "python",
   "name": "python3"
  },
  "language_info": {
   "codemirror_mode": {
    "name": "ipython",
    "version": 3
   },
   "file_extension": ".py",
   "mimetype": "text/x-python",
   "name": "python",
   "nbconvert_exporter": "python",
   "pygments_lexer": "ipython3",
   "version": "3.12.2"
  }
 },
 "nbformat": 4,
 "nbformat_minor": 4
}
